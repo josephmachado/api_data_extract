{
 "cells": [
  {
   "cell_type": "markdown",
   "id": "6395f0a4-0caf-48c5-ba54-4733a71c7320",
   "metadata": {},
   "source": [
    "## Setup"
   ]
  },
  {
   "cell_type": "code",
   "execution_count": 1,
   "id": "b422d07e-8e5c-4b2c-90c5-050a39728ff0",
   "metadata": {},
   "outputs": [],
   "source": [
    "import requests\n",
    "from pprint import pp as print"
   ]
  },
  {
   "cell_type": "markdown",
   "id": "1fda5591-9306-47b5-9979-39b9995089a1",
   "metadata": {},
   "source": [
    "## GET data"
   ]
  },
  {
   "cell_type": "code",
   "execution_count": 2,
   "id": "0fefbee6-6fff-46fc-85d1-09c388ef157f",
   "metadata": {},
   "outputs": [
    {
     "name": "stdout",
     "output_type": "stream",
     "text": [
      "200\n"
     ]
    }
   ],
   "source": [
    "url = 'https://jsonplaceholder.typicode.com/posts'\n",
    "response = requests.get(url=url)\n",
    "print(response.status_code) # must be 200"
   ]
  },
  {
   "cell_type": "code",
   "execution_count": 3,
   "id": "03d6c893-08c7-4339-82f8-149a91268f06",
   "metadata": {},
   "outputs": [
    {
     "data": {
      "text/plain": [
       "b'[\\n  {\\n    \"userId\": 1,\\n    \"id\": 1,\\n    \"title\": \"sunt aut facere repellat provident occaecati excep'"
      ]
     },
     "execution_count": 3,
     "metadata": {},
     "output_type": "execute_result"
    }
   ],
   "source": [
    "response.content[:100]"
   ]
  },
  {
   "cell_type": "code",
   "execution_count": 4,
   "id": "fe3d2ec9-9202-4e35-a3de-f08b1384988d",
   "metadata": {},
   "outputs": [
    {
     "data": {
      "text/plain": [
       "[{'userId': 1,\n",
       "  'id': 1,\n",
       "  'title': 'sunt aut facere repellat provident occaecati excepturi optio reprehenderit',\n",
       "  'body': 'quia et suscipit\\nsuscipit recusandae consequuntur expedita et cum\\nreprehenderit molestiae ut ut quas totam\\nnostrum rerum est autem sunt rem eveniet architecto'},\n",
       " {'userId': 1,\n",
       "  'id': 2,\n",
       "  'title': 'qui est esse',\n",
       "  'body': 'est rerum tempore vitae\\nsequi sint nihil reprehenderit dolor beatae ea dolores neque\\nfugiat blanditiis voluptate porro vel nihil molestiae ut reiciendis\\nqui aperiam non debitis possimus qui neque nisi nulla'},\n",
       " {'userId': 1,\n",
       "  'id': 3,\n",
       "  'title': 'ea molestias quasi exercitationem repellat qui ipsa sit aut',\n",
       "  'body': 'et iusto sed quo iure\\nvoluptatem occaecati omnis eligendi aut ad\\nvoluptatem doloribus vel accusantium quis pariatur\\nmolestiae porro eius odio et labore et velit aut'}]"
      ]
     },
     "execution_count": 4,
     "metadata": {},
     "output_type": "execute_result"
    }
   ],
   "source": [
    "response_json_data = response.json()\n",
    "response_json_data[:3] # Let's look at the first 3 elements"
   ]
  },
  {
   "cell_type": "markdown",
   "id": "9db703d1-4017-41b4-935e-2825aee60f93",
   "metadata": {},
   "source": [
    "## GET data for specific entity"
   ]
  },
  {
   "cell_type": "code",
   "execution_count": 5,
   "id": "7d914f8e-ebe7-4acb-bb01-17e19441e35f",
   "metadata": {},
   "outputs": [
    {
     "name": "stdout",
     "output_type": "stream",
     "text": [
      "{'userId': 1,\n",
      " 'id': 1,\n",
      " 'title': 'sunt aut facere repellat provident occaecati excepturi optio '\n",
      "          'reprehenderit',\n",
      " 'body': 'quia et suscipit\\n'\n",
      "         'suscipit recusandae consequuntur expedita et cum\\n'\n",
      "         'reprehenderit molestiae ut ut quas totam\\n'\n",
      "         'nostrum rerum est autem sunt rem eveniet architecto'}\n"
     ]
    }
   ],
   "source": [
    "post_id=1\n",
    "response = requests.get(url=f'{url}/{post_id}')\n",
    "print(response.json())  # data for post 1"
   ]
  },
  {
   "cell_type": "markdown",
   "id": "db4627c8-e1d8-4812-aabf-99b5a0a8e0ee",
   "metadata": {},
   "source": [
    "## GET data for related entity"
   ]
  },
  {
   "cell_type": "code",
   "execution_count": 6,
   "id": "614c1b5e-c008-4593-95ad-bf3f18fe357a",
   "metadata": {},
   "outputs": [
    {
     "data": {
      "text/plain": [
       "'https://jsonplaceholder.typicode.com/posts'"
      ]
     },
     "execution_count": 6,
     "metadata": {},
     "output_type": "execute_result"
    }
   ],
   "source": [
    "url"
   ]
  },
  {
   "cell_type": "code",
   "execution_count": 7,
   "id": "5ff4f7ff-e268-4b7c-9a27-214768846294",
   "metadata": {},
   "outputs": [
    {
     "data": {
      "text/plain": [
       "[{'postId': 1,\n",
       "  'id': 1,\n",
       "  'name': 'id labore ex et quam laborum',\n",
       "  'email': 'Eliseo@gardner.biz',\n",
       "  'body': 'laudantium enim quasi est quidem magnam voluptate ipsam eos\\ntempora quo necessitatibus\\ndolor quam autem quasi\\nreiciendis et nam sapiente accusantium'},\n",
       " {'postId': 1,\n",
       "  'id': 2,\n",
       "  'name': 'quo vero reiciendis velit similique earum',\n",
       "  'email': 'Jayne_Kuhic@sydney.com',\n",
       "  'body': 'est natus enim nihil est dolore omnis voluptatem numquam\\net omnis occaecati quod ullam at\\nvoluptatem error expedita pariatur\\nnihil sint nostrum voluptatem reiciendis et'},\n",
       " {'postId': 1,\n",
       "  'id': 3,\n",
       "  'name': 'odio adipisci rerum aut animi',\n",
       "  'email': 'Nikita@garfield.biz',\n",
       "  'body': 'quia molestiae reprehenderit quasi aspernatur\\naut expedita occaecati aliquam eveniet laudantium\\nomnis quibusdam delectus saepe quia accusamus maiores nam est\\ncum et ducimus et vero voluptates excepturi deleniti ratione'},\n",
       " {'postId': 1,\n",
       "  'id': 4,\n",
       "  'name': 'alias odio sit',\n",
       "  'email': 'Lew@alysha.tv',\n",
       "  'body': 'non et atque\\noccaecati deserunt quas accusantium unde odit nobis qui voluptatem\\nquia voluptas consequuntur itaque dolor\\net qui rerum deleniti ut occaecati'},\n",
       " {'postId': 1,\n",
       "  'id': 5,\n",
       "  'name': 'vero eaque aliquid doloribus et culpa',\n",
       "  'email': 'Hayden@althea.biz',\n",
       "  'body': 'harum non quasi et ratione\\ntempore iure ex voluptates in ratione\\nharum architecto fugit inventore cupiditate\\nvoluptates magni quo et'}]"
      ]
     },
     "execution_count": 7,
     "metadata": {},
     "output_type": "execute_result"
    }
   ],
   "source": [
    "entity = 'comments'\n",
    "# add post id url\n",
    "response = requests.get(url=f'{url}/{post_id}/{entity}')\n",
    "response.json() # all the comments on post 1"
   ]
  },
  {
   "cell_type": "markdown",
   "id": "0efc694d-f3a3-476e-a665-7426b4ea653c",
   "metadata": {},
   "source": [
    "## Query params enable you to be more specific for the data you want"
   ]
  },
  {
   "cell_type": "code",
   "execution_count": 8,
   "id": "61d4b1ac-a578-437a-9313-fa41b3e0dfa0",
   "metadata": {},
   "outputs": [
    {
     "data": {
      "text/plain": [
       "b'<!DOCTYPE html><html lang=\"en\"><head><title>Google Search</title><style>body{background-color:#fff}<'"
      ]
     },
     "execution_count": 8,
     "metadata": {},
     "output_type": "execute_result"
    }
   ],
   "source": [
    "url = 'https://www.google.com/search'\n",
    "query_params = {'q': 'electronics'}\n",
    "response = requests.get(url=f'{url}', params=query_params)\n",
    "response.content[:100] # This is a HTML file"
   ]
  },
  {
   "cell_type": "markdown",
   "id": "83ce3e16-f8bc-40de-8970-faab63b1f77c",
   "metadata": {},
   "source": [
    "## Use limit and offset"
   ]
  },
  {
   "cell_type": "code",
   "execution_count": 9,
   "id": "19d9207f-1ca6-49c9-b114-76437d844654",
   "metadata": {},
   "outputs": [
    {
     "name": "stdout",
     "output_type": "stream",
     "text": [
      "'Number of results: 3'\n",
      "{'count': 367,\n",
      " 'next': 'https://pokeapi.co/api/v2/ability?offset=8&limit=3',\n",
      " 'previous': 'https://pokeapi.co/api/v2/ability?offset=2&limit=3',\n",
      " 'results': [{'name': 'damp', 'url': 'https://pokeapi.co/api/v2/ability/6/'},\n",
      "             {'name': 'limber', 'url': 'https://pokeapi.co/api/v2/ability/7/'},\n",
      "             {'name': 'sand-veil',\n",
      "              'url': 'https://pokeapi.co/api/v2/ability/8/'}]}\n"
     ]
    }
   ],
   "source": [
    "params = {'offset': 5, 'limit': 3}\n",
    "url = 'https://pokeapi.co/api/v2/'\n",
    "entity = 'ability'\n",
    "response = requests.get(url=f'{url}{entity}', params=params)\n",
    "response_json_data = response.json()\n",
    "print(f'Number of results: {len(response_json_data.get('results', []))}')\n",
    "print(response_json_data)"
   ]
  },
  {
   "cell_type": "markdown",
   "id": "546e1794-b456-42d6-a90d-e094963c1416",
   "metadata": {},
   "source": [
    "## Use next page link"
   ]
  },
  {
   "cell_type": "code",
   "execution_count": 10,
   "id": "16c8f398-9e4e-4e1a-a7c2-4aef81cb10ad",
   "metadata": {},
   "outputs": [
    {
     "name": "stdout",
     "output_type": "stream",
     "text": [
      "('Next url from first request: '\n",
      " 'https://pokeapi.co/api/v2/ability?offset=20&limit=20')\n"
     ]
    },
    {
     "data": {
      "text/plain": [
       "{'count': 367,\n",
       " 'next': 'https://pokeapi.co/api/v2/ability?offset=40&limit=20',\n",
       " 'previous': 'https://pokeapi.co/api/v2/ability?offset=0&limit=20',\n",
       " 'results': [{'name': 'suction-cups',\n",
       "   'url': 'https://pokeapi.co/api/v2/ability/21/'},\n",
       "  {'name': 'intimidate', 'url': 'https://pokeapi.co/api/v2/ability/22/'},\n",
       "  {'name': 'shadow-tag', 'url': 'https://pokeapi.co/api/v2/ability/23/'},\n",
       "  {'name': 'rough-skin', 'url': 'https://pokeapi.co/api/v2/ability/24/'},\n",
       "  {'name': 'wonder-guard', 'url': 'https://pokeapi.co/api/v2/ability/25/'},\n",
       "  {'name': 'levitate', 'url': 'https://pokeapi.co/api/v2/ability/26/'},\n",
       "  {'name': 'effect-spore', 'url': 'https://pokeapi.co/api/v2/ability/27/'},\n",
       "  {'name': 'synchronize', 'url': 'https://pokeapi.co/api/v2/ability/28/'},\n",
       "  {'name': 'clear-body', 'url': 'https://pokeapi.co/api/v2/ability/29/'},\n",
       "  {'name': 'natural-cure', 'url': 'https://pokeapi.co/api/v2/ability/30/'},\n",
       "  {'name': 'lightning-rod', 'url': 'https://pokeapi.co/api/v2/ability/31/'},\n",
       "  {'name': 'serene-grace', 'url': 'https://pokeapi.co/api/v2/ability/32/'},\n",
       "  {'name': 'swift-swim', 'url': 'https://pokeapi.co/api/v2/ability/33/'},\n",
       "  {'name': 'chlorophyll', 'url': 'https://pokeapi.co/api/v2/ability/34/'},\n",
       "  {'name': 'illuminate', 'url': 'https://pokeapi.co/api/v2/ability/35/'},\n",
       "  {'name': 'trace', 'url': 'https://pokeapi.co/api/v2/ability/36/'},\n",
       "  {'name': 'huge-power', 'url': 'https://pokeapi.co/api/v2/ability/37/'},\n",
       "  {'name': 'poison-point', 'url': 'https://pokeapi.co/api/v2/ability/38/'},\n",
       "  {'name': 'inner-focus', 'url': 'https://pokeapi.co/api/v2/ability/39/'},\n",
       "  {'name': 'magma-armor', 'url': 'https://pokeapi.co/api/v2/ability/40/'}]}"
      ]
     },
     "execution_count": 10,
     "metadata": {},
     "output_type": "execute_result"
    }
   ],
   "source": [
    "url = 'https://pokeapi.co/api/v2/'\n",
    "entity = 'ability'\n",
    "response = requests.get(url=f'{url}{entity}')\n",
    "json_response = response.json()\n",
    "next_link = json_response.get('next')\n",
    "print(f'Next url from first request: {next_link}')\n",
    "response = requests.get(next_link)\n",
    "response.json()"
   ]
  },
  {
   "cell_type": "markdown",
   "id": "50dc4e84-58b8-48b5-975b-305d6615e853",
   "metadata": {},
   "source": [
    "## Retry"
   ]
  },
  {
   "cell_type": "code",
   "execution_count": 11,
   "id": "f238058a-6743-4d94-8882-7566c09a8c0a",
   "metadata": {},
   "outputs": [],
   "source": [
    "# start a local server with 1 request per 10 seconds rate limit\n",
    "import subprocess\n",
    "process = subprocess.Popen(['uv', 'run', 'dummy_server.py'], \n",
    "                          stdout=subprocess.PIPE,\n",
    "                          stderr=subprocess.PIPE)"
   ]
  },
  {
   "cell_type": "markdown",
   "id": "010ce45f-48ab-42c8-bceb-bcd6b558a8a4",
   "metadata": {},
   "source": [
    "Our server only allows 1 request every 10 seconds, let's add a retry without any wait time between re-tries. The first API call will be successful but the second one will fail"
   ]
  },
  {
   "cell_type": "code",
   "execution_count": 12,
   "id": "c8fd5fd9-8087-4072-a510-042a33452207",
   "metadata": {},
   "outputs": [
    {
     "name": "stdout",
     "output_type": "stream",
     "text": [
      "'Attempt 1:'\n",
      "(\"Connection Error: HTTPConnectionPool(host='localhost', port=8000): Max \"\n",
      " 'retries exceeded with url: /api (Caused by '\n",
      " \"NewConnectionError('<urllib3.connection.HTTPConnection object at \"\n",
      " '0x701abf7b7e10>: Failed to establish a new connection: [Errno 111] '\n",
      " \"Connection refused'))\")\n",
      "'Result: None'\n",
      "'Attempt 2:'\n",
      "(\"Connection Error: HTTPConnectionPool(host='localhost', port=8000): Max \"\n",
      " 'retries exceeded with url: /api (Caused by '\n",
      " \"NewConnectionError('<urllib3.connection.HTTPConnection object at \"\n",
      " '0x701abe69bbd0>: Failed to establish a new connection: [Errno 111] '\n",
      " \"Connection refused'))\")\n",
      "'Result: None'\n"
     ]
    }
   ],
   "source": [
    "import requests\n",
    "from requests.adapters import HTTPAdapter\n",
    "from urllib3.util.retry import Retry\n",
    "import time\n",
    "\n",
    "# Configure the retry strategy \n",
    "retries = Retry(\n",
    "    total=3,\n",
    "    status_forcelist=[500, 502, 503, 504],  # Retry on these server errors\n",
    "    allowed_methods={\"GET\"},  # Explicitly allow only GET requests\n",
    ")\n",
    "\n",
    "# Create a session and mount the retry adapter\n",
    "session = requests.Session()\n",
    "adapter = HTTPAdapter(max_retries=retries)\n",
    "session.mount('http://', adapter)\n",
    "\n",
    "# URL for your local API\n",
    "api_url = \"http://localhost:8000/api\" \n",
    "\n",
    "# Function to make API calls with retry handling\n",
    "def make_api_call():\n",
    "    try:\n",
    "        # Make the GET request\n",
    "        response = session.get(api_url)\n",
    "        response.raise_for_status()\n",
    "        return response.json()\n",
    "    except requests.exceptions.HTTPError as e:\n",
    "        print(f\"HTTP Error: {e}\")\n",
    "    except requests.exceptions.ConnectionError as e:\n",
    "        print(f\"Connection Error: {e}\")\n",
    "    except requests.exceptions.Timeout as e:\n",
    "        print(f\"Timeout Error: {e}\")\n",
    "    except requests.exceptions.RequestException as e:\n",
    "        print(f\"Request Exception: {e}\")\n",
    "    return None\n",
    "\n",
    "# First run will succeed, second will fail due to rate limit\n",
    "for i in range(2):\n",
    "    print(f\"Attempt {i+1}:\")\n",
    "    result = make_api_call()\n",
    "    print(f\"Result: {result}\")\n"
   ]
  },
  {
   "cell_type": "markdown",
   "id": "1d62c3f8-fe3e-47de-9d34-393ab8f0a569",
   "metadata": {},
   "source": [
    "Instead of just retrying 3 times, lets add a backoff which tells our code to wait n seconds before retrying. The algorithm used is called `exponential_backoff` where with every re-try the wait time is increased following an exponential function:\n",
    "`{backoff factor} * (2 ** ({number of previous retries}))`\n",
    "\n",
    "We set a backoff factor of 2, so our retries will be as follows:\n",
    "1. 1st attempt: 0 wait -> fail\n",
    "2. 2nd attempt: 2 * (2^1) wait; 4s wait after 1st attempt -> fail\n",
    "3. 3rd attempt: 2 * (2^2) wait; 8s wait after 2nd attempt -> pass\n",
    "\n",
    "[reference docs](https://urllib3.readthedocs.io/en/latest/reference/urllib3.util.html#urllib3.util.Retry)"
   ]
  },
  {
   "cell_type": "code",
   "execution_count": 13,
   "id": "7dc851cc-540b-4975-857f-36ccfecc109c",
   "metadata": {},
   "outputs": [
    {
     "name": "stdout",
     "output_type": "stream",
     "text": [
      "'Attempt 1:'\n",
      "(\"Result: {'status': 'success', 'message': 'API request processed \"\n",
      " \"successfully', 'timestamp': 1745241134.504121}\")\n",
      "'Attempt 2:'\n",
      "(\"Result: {'status': 'success', 'message': 'API request processed \"\n",
      " \"successfully', 'timestamp': 1745241147.5173604}\")\n"
     ]
    }
   ],
   "source": [
    "import requests\n",
    "from requests.adapters import HTTPAdapter\n",
    "from urllib3.util.retry import Retry\n",
    "import time\n",
    "\n",
    "# Configure the retry strategy \n",
    "retries = Retry(\n",
    "    total=3,\n",
    "    backoff_factor=2, # calls made at 0 seconds, \n",
    "    status_forcelist=[500, 502, 503, 504],  # Retry on these server errors\n",
    "    allowed_methods={\"GET\"},  # Explicitly allow only GET requests\n",
    ")\n",
    "\n",
    "# Create a session and mount the retry adapter\n",
    "session = requests.Session()\n",
    "adapter = HTTPAdapter(max_retries=retries)\n",
    "session.mount('http://', adapter)\n",
    "\n",
    "# URL for your local API\n",
    "api_url = \"http://localhost:8000/api\" # random 2/3 error \n",
    "\n",
    "\n",
    "# Function to make API calls with retry handling\n",
    "def make_api_call():\n",
    "    try:\n",
    "        # Make the GET request\n",
    "        response = session.get(api_url)\n",
    "        response.raise_for_status()  # Raise exception for 4XX/5XX responses\n",
    "        return response.json()\n",
    "    except requests.exceptions.HTTPError as e:\n",
    "        print(f\"HTTP Error: {e}\")\n",
    "    except requests.exceptions.ConnectionError as e:\n",
    "        print(f\"Connection Error: {e}\")\n",
    "    except requests.exceptions.Timeout as e:\n",
    "        print(f\"Timeout Error: {e}\")\n",
    "    except requests.exceptions.RequestException as e:\n",
    "        print(f\"Request Exception: {e}\")\n",
    "    return None\n",
    "\n",
    "# Example usage with your rate-limited server\n",
    "for i in range(2):\n",
    "    print(f\"Attempt {i+1}:\")\n",
    "    result = make_api_call()\n",
    "    print(f\"Result: {result}\")\n",
    " "
   ]
  },
  {
   "cell_type": "code",
   "execution_count": 14,
   "id": "df5dc44a-5a84-496e-ac72-d25d9ce75268",
   "metadata": {},
   "outputs": [],
   "source": [
    "process.terminate() # stop server"
   ]
  },
  {
   "cell_type": "code",
   "execution_count": null,
   "id": "5b5dda41-5e43-4714-8115-d65b20773317",
   "metadata": {},
   "outputs": [],
   "source": []
  }
 ],
 "metadata": {
  "kernelspec": {
   "display_name": "venv",
   "language": "python",
   "name": "venv"
  },
  "language_info": {
   "codemirror_mode": {
    "name": "ipython",
    "version": 3
   },
   "file_extension": ".py",
   "mimetype": "text/x-python",
   "name": "python",
   "nbconvert_exporter": "python",
   "pygments_lexer": "ipython3",
   "version": "3.13.2"
  }
 },
 "nbformat": 4,
 "nbformat_minor": 5
}
