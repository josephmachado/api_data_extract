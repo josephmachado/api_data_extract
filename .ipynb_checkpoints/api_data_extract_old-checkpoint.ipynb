{
 "cells": [
  {
   "cell_type": "code",
   "execution_count": 88,
   "id": "842fb151-4bc4-4d8b-94f3-b932932a5df1",
   "metadata": {},
   "outputs": [],
   "source": [
    "import requests\n",
    "from pprint import pp as print"
   ]
  },
  {
   "cell_type": "markdown",
   "id": "1ac94b7b-3fee-4bc7-ba72-ec6eb445cc4f",
   "metadata": {},
   "source": [
    "## Pull data from an URL"
   ]
  },
  {
   "cell_type": "code",
   "execution_count": 89,
   "id": "b7c8a991-3d1b-4e15-a9fc-b6227645dab4",
   "metadata": {},
   "outputs": [],
   "source": [
    "url = 'https://jsonplaceholder.typicode.com/'\n",
    "entity = 'posts'"
   ]
  },
  {
   "cell_type": "code",
   "execution_count": 90,
   "id": "98b1ddf1-e818-42e9-bd54-89091ce49c42",
   "metadata": {},
   "outputs": [],
   "source": [
    "response = requests.get(url=f'{url}{entity}')"
   ]
  },
  {
   "cell_type": "code",
   "execution_count": 91,
   "id": "3eabb79d-5894-49a8-a22c-eb584b75332a",
   "metadata": {},
   "outputs": [
    {
     "data": {
      "text/plain": [
       "200"
      ]
     },
     "execution_count": 91,
     "metadata": {},
     "output_type": "execute_result"
    }
   ],
   "source": [
    "response.status_code"
   ]
  },
  {
   "cell_type": "markdown",
   "id": "f6048843-38b3-4b84-a131-1d77918afc25",
   "metadata": {},
   "source": [
    "\n",
    "    Informational responses (100 – 199)\n",
    "    Successful responses (200 – 299)\n",
    "    Redirection messages (300 – 399)\n",
    "    Client error responses (400 – 499)\n",
    "    Server error responses (500 – 599)\n"
   ]
  },
  {
   "cell_type": "code",
   "execution_count": 92,
   "id": "e05dcd8b-fc71-4c47-b948-520dae3d2d41",
   "metadata": {},
   "outputs": [
    {
     "name": "stdout",
     "output_type": "stream",
     "text": [
      "(\"request headers: {'User-Agent': 'python-requests/2.32.3', 'Accept-Encoding': \"\n",
      " \"'gzip, deflate', 'Accept': '*/*', 'Connection': 'keep-alive'}\")\n",
      "'request method type: GET'\n",
      "'request path: /posts'\n"
     ]
    }
   ],
   "source": [
    "# Inspect the request\n",
    "req = response.request\n",
    "print(f'request headers: {req.headers}')\n",
    "print(f'request method type: {req.method}')\n",
    "print(f'request path: {req.path_url}')"
   ]
  },
  {
   "cell_type": "code",
   "execution_count": 93,
   "id": "6dc0b8ef-0ddf-443e-bebe-67a4a2a9ea50",
   "metadata": {
    "scrolled": true
   },
   "outputs": [
    {
     "data": {
      "text/plain": [
       "b'[\\n  {\\n    \"userId\": 1,\\n    \"id\": 1,\\n    \"title\": \"sunt aut facere repellat provident occaecati excepturi optio reprehenderit\",\\n    \"body\": \"quia et suscipit\\\\nsuscipit recusandae consequuntur expedita et cum\\\\nreprehenderit molestiae ut ut quas totam\\\\nnostrum rerum est autem sunt rem eveniet architecto\"\\n  },\\n  {\\n    \"userId\": 1,\\n    \"id\": 2,\\n    \"title\": \"qui est esse\",\\n    \"body\": \"est rerum tempore vitae\\\\nsequi sint nihil reprehenderit dolor beatae ea dolores neque\\\\nfugiat blanditiis voluptate porro vel nihil molestiae ut reiciendis\\\\nqui aperiam non debitis possimus qui neque nisi nulla\"\\n  },\\n  {\\n    \"userId\": 1,\\n    \"id\": 3,\\n    \"title\": \"ea molestias quasi exercitationem repellat qui ipsa sit aut\",\\n    \"body\": \"et iusto sed quo iure\\\\nvoluptatem occaecati omnis eligendi aut ad\\\\nvoluptatem doloribus vel accusantium quis pariatur\\\\nmolestiae porro eius odio et labore et velit aut\"\\n  },\\n  {\\n    \"userId\": 1,\\n    \"id\": 4,\\n    \"title\": \"eum et est occaecati\",\\n    \"body\": \"ullam et saepe reiciendis voluptatem adipisci\\\\nsit amet autem assumenda provident rerum culpa\\\\nquis hic commodi nesciunt rem tenetur doloremque ipsam iure\\\\nquis sunt voluptatem rerum illo velit\"\\n  },\\n  {\\n    \"userId\": 1,\\n    \"id\": 5,\\n    \"title\": \"nesciunt quas odio\",\\n    \"body\": \"repudiandae veniam quaerat sunt sed\\\\nalias aut fugiat sit autem sed est\\\\nvoluptatem omnis possimus esse voluptatibus quis\\\\nest aut tenetur dolor neque\"\\n  },\\n  {\\n    \"userId\": 1,\\n    \"id\": 6,\\n    \"title\": \"dolorem eum magni eos aperiam quia\",\\n    \"body\": \"ut aspernatur corporis harum nihil quis provident sequi\\\\nmollitia nobis aliquid molestiae\\\\nperspiciatis et ea nemo ab reprehenderit accusantium quas\\\\nvoluptate dolores velit et doloremque molestiae\"\\n  },\\n  {\\n    \"userId\": 1,\\n    \"id\": 7,\\n    \"title\": \"magnam facilis autem\",\\n    \"body\": \"dolore placeat quibusdam ea quo vitae\\\\nmagni quis enim qui quis quo nemo aut saepe\\\\nquidem repellat excepturi ut quia\\\\nsunt ut sequi eos ea sed quas\"\\n  },\\n  {\\n    \"userId\": 1,\\n    \"id\": 8,\\n    \"title\": \"dolorem dolore est ipsam\",\\n    \"body\": \"dignissimos aperiam dolorem qui eum\\\\nfacilis quibusdam animi sint suscipit qui sint possimus cum\\\\nquaerat magni maiores excepturi\\\\nipsam ut commodi dolor voluptatum modi aut vitae\"\\n  },\\n  {\\n    \"userId\": 1,\\n    \"id\": 9,\\n    \"title\": \"nesciunt iure omnis dolorem tempora et accusantium\",\\n    \"body\": \"consectetur animi nesciunt iure dolore\\\\nenim quia ad\\\\nveniam autem ut quam aut nobis\\\\net est aut quod aut provident voluptas autem voluptas\"\\n  },\\n  {\\n    \"userId\": 1,\\n    \"id\": 10,\\n    \"title\": \"optio molestias id quia eum\",\\n    \"body\": \"quo et expedita modi cum officia vel magni\\\\ndoloribus qui repudiandae\\\\nvero nisi sit\\\\nquos veniam quod sed accusamus veritatis error\"\\n  },\\n  {\\n    \"userId\": 2,\\n    \"id\": 11,\\n    \"title\": \"et ea vero quia laudantium autem\",\\n    \"body\": \"delectus reiciendis molestiae occaecati non minima eveniet qui voluptatibus\\\\naccusamus in eum beatae sit\\\\nvel qui neque voluptates ut commodi qui incidunt\\\\nut animi commodi\"\\n  },\\n  {\\n    \"userId\": 2,\\n    \"id\": 12,\\n    \"title\": \"in quibusdam tempore odit est dolorem\",\\n    \"body\": \"itaque id aut magnam\\\\npraesentium quia et ea odit et ea voluptas et\\\\nsapiente quia nihil amet occaecati quia id voluptatem\\\\nincidunt ea est distinctio odio\"\\n  },\\n  {\\n    \"userId\": 2,\\n    \"id\": 13,\\n    \"title\": \"dolorum ut in voluptas mollitia et saepe quo animi\",\\n    \"body\": \"aut dicta possimus sint mollitia voluptas commodi quo doloremque\\\\niste corrupti reiciendis voluptatem eius rerum\\\\nsit cumque quod eligendi laborum minima\\\\nperferendis recusandae assumenda consectetur porro architecto ipsum ipsam\"\\n  },\\n  {\\n    \"userId\": 2,\\n    \"id\": 14,\\n    \"title\": \"voluptatem eligendi optio\",\\n    \"body\": \"fuga et accusamus dolorum perferendis illo voluptas\\\\nnon doloremque neque facere\\\\nad qui dolorum molestiae beatae\\\\nsed aut voluptas totam sit illum\"\\n  },\\n  {\\n    \"userId\": 2,\\n    \"id\": 15,\\n    \"title\": \"eveniet quod temporibus\",\\n    \"body\": \"reprehenderit quos placeat\\\\nvelit minima officia dolores impedit repudiandae molestiae nam\\\\nvoluptas recusandae quis delectus\\\\nofficiis harum fugiat vitae\"\\n  },\\n  {\\n    \"userId\": 2,\\n    \"id\": 16,\\n    \"title\": \"sint suscipit perspiciatis velit dolorum rerum ipsa laboriosam odio\",\\n    \"body\": \"suscipit nam nisi quo aperiam aut\\\\nasperiores eos fugit maiores voluptatibus quia\\\\nvoluptatem quis ullam qui in alias quia est\\\\nconsequatur magni mollitia accusamus ea nisi voluptate dicta\"\\n  },\\n  {\\n    \"userId\": 2,\\n    \"id\": 17,\\n    \"title\": \"fugit voluptas sed molestias voluptatem provident\",\\n    \"body\": \"eos voluptas et aut odit natus earum\\\\naspernatur fuga molestiae ullam\\\\ndeserunt ratione qui eos\\\\nqui nihil ratione nemo velit ut aut id quo\"\\n  },\\n  {\\n    \"userId\": 2,\\n    \"id\": 18,\\n    \"title\": \"voluptate et itaque vero tempora molestiae\",\\n    \"body\": \"eveniet quo quis\\\\nlaborum totam consequatur non dolor\\\\nut et est repudiandae\\\\nest voluptatem vel debitis et magnam\"\\n  },\\n  {\\n    \"userId\": 2,\\n    \"id\": 19,\\n    \"title\": \"adipisci placeat illum aut reiciendis qui\",\\n    \"body\": \"illum quis cupiditate provident sit magnam\\\\nea sed aut omnis\\\\nveniam maiores ullam consequatur atque\\\\nadipisci quo iste expedita sit quos voluptas\"\\n  },\\n  {\\n    \"userId\": 2,\\n    \"id\": 20,\\n    \"title\": \"doloribus ad provident suscipit at\",\\n    \"body\": \"qui consequuntur ducimus possimus quisquam amet similique\\\\nsuscipit porro ipsam amet\\\\neos veritatis officiis exercitationem vel fugit aut necessitatibus totam\\\\nomnis rerum consequatur expedita quidem cumque explicabo\"\\n  },\\n  {\\n    \"userId\": 3,\\n    \"id\": 21,\\n    \"title\": \"asperiores ea ipsam voluptatibus modi minima quia sint\",\\n    \"body\": \"repellat aliquid praesentium dolorem quo\\\\nsed totam minus non itaque\\\\nnihil labore molestiae sunt dolor eveniet hic recusandae veniam\\\\ntempora et tenetur expedita sunt\"\\n  },\\n  {\\n    \"userId\": 3,\\n    \"id\": 22,\\n    \"title\": \"dolor sint quo a velit explicabo quia nam\",\\n    \"body\": \"eos qui et ipsum ipsam suscipit aut\\\\nsed omnis non odio\\\\nexpedita earum mollitia molestiae aut atque rem suscipit\\\\nnam impedit esse\"\\n  },\\n  {\\n    \"userId\": 3,\\n    \"id\": 23,\\n    \"title\": \"maxime id vitae nihil numquam\",\\n    \"body\": \"veritatis unde neque eligendi\\\\nquae quod architecto quo neque vitae\\\\nest illo sit tempora doloremque fugit quod\\\\net et vel beatae sequi ullam sed tenetur perspiciatis\"\\n  },\\n  {\\n    \"userId\": 3,\\n    \"id\": 24,\\n    \"title\": \"autem hic labore sunt dolores incidunt\",\\n    \"body\": \"enim et ex nulla\\\\nomnis voluptas quia qui\\\\nvoluptatem consequatur numquam aliquam sunt\\\\ntotam recusandae id dignissimos aut sed asperiores deserunt\"\\n  },\\n  {\\n    \"userId\": 3,\\n    \"id\": 25,\\n    \"title\": \"rem alias distinctio quo quis\",\\n    \"body\": \"ullam consequatur ut\\\\nomnis quis sit vel consequuntur\\\\nipsa eligendi ipsum molestiae et omnis error nostrum\\\\nmolestiae illo tempore quia et distinctio\"\\n  },\\n  {\\n    \"userId\": 3,\\n    \"id\": 26,\\n    \"title\": \"est et quae odit qui non\",\\n    \"body\": \"similique esse doloribus nihil accusamus\\\\nomnis dolorem fuga consequuntur reprehenderit fugit recusandae temporibus\\\\nperspiciatis cum ut laudantium\\\\nomnis aut molestiae vel vero\"\\n  },\\n  {\\n    \"userId\": 3,\\n    \"id\": 27,\\n    \"title\": \"quasi id et eos tenetur aut quo autem\",\\n    \"body\": \"eum sed dolores ipsam sint possimus debitis occaecati\\\\ndebitis qui qui et\\\\nut placeat enim earum aut odit facilis\\\\nconsequatur suscipit necessitatibus rerum sed inventore temporibus consequatur\"\\n  },\\n  {\\n    \"userId\": 3,\\n    \"id\": 28,\\n    \"title\": \"delectus ullam et corporis nulla voluptas sequi\",\\n    \"body\": \"non et quaerat ex quae ad maiores\\\\nmaiores recusandae totam aut blanditiis mollitia quas illo\\\\nut voluptatibus voluptatem\\\\nsimilique nostrum eum\"\\n  },\\n  {\\n    \"userId\": 3,\\n    \"id\": 29,\\n    \"title\": \"iusto eius quod necessitatibus culpa ea\",\\n    \"body\": \"odit magnam ut saepe sed non qui\\\\ntempora atque nihil\\\\naccusamus illum doloribus illo dolor\\\\neligendi repudiandae odit magni similique sed cum maiores\"\\n  },\\n  {\\n    \"userId\": 3,\\n    \"id\": 30,\\n    \"title\": \"a quo magni similique perferendis\",\\n    \"body\": \"alias dolor cumque\\\\nimpedit blanditiis non eveniet odio maxime\\\\nblanditiis amet eius quis tempora quia autem rem\\\\na provident perspiciatis quia\"\\n  },\\n  {\\n    \"userId\": 4,\\n    \"id\": 31,\\n    \"title\": \"ullam ut quidem id aut vel consequuntur\",\\n    \"body\": \"debitis eius sed quibusdam non quis consectetur vitae\\\\nimpedit ut qui consequatur sed aut in\\\\nquidem sit nostrum et maiores adipisci atque\\\\nquaerat voluptatem adipisci repudiandae\"\\n  },\\n  {\\n    \"userId\": 4,\\n    \"id\": 32,\\n    \"title\": \"doloremque illum aliquid sunt\",\\n    \"body\": \"deserunt eos nobis asperiores et hic\\\\nest debitis repellat molestiae optio\\\\nnihil ratione ut eos beatae quibusdam distinctio maiores\\\\nearum voluptates et aut adipisci ea maiores voluptas maxime\"\\n  },\\n  {\\n    \"userId\": 4,\\n    \"id\": 33,\\n    \"title\": \"qui explicabo molestiae dolorem\",\\n    \"body\": \"rerum ut et numquam laborum odit est sit\\\\nid qui sint in\\\\nquasi tenetur tempore aperiam et quaerat qui in\\\\nrerum officiis sequi cumque quod\"\\n  },\\n  {\\n    \"userId\": 4,\\n    \"id\": 34,\\n    \"title\": \"magnam ut rerum iure\",\\n    \"body\": \"ea velit perferendis earum ut voluptatem voluptate itaque iusto\\\\ntotam pariatur in\\\\nnemo voluptatem voluptatem autem magni tempora minima in\\\\nest distinctio qui assumenda accusamus dignissimos officia nesciunt nobis\"\\n  },\\n  {\\n    \"userId\": 4,\\n    \"id\": 35,\\n    \"title\": \"id nihil consequatur molestias animi provident\",\\n    \"body\": \"nisi error delectus possimus ut eligendi vitae\\\\nplaceat eos harum cupiditate facilis reprehenderit voluptatem beatae\\\\nmodi ducimus quo illum voluptas eligendi\\\\net nobis quia fugit\"\\n  },\\n  {\\n    \"userId\": 4,\\n    \"id\": 36,\\n    \"title\": \"fuga nam accusamus voluptas reiciendis itaque\",\\n    \"body\": \"ad mollitia et omnis minus architecto odit\\\\nvoluptas doloremque maxime aut non ipsa qui alias veniam\\\\nblanditiis culpa aut quia nihil cumque facere et occaecati\\\\nqui aspernatur quia eaque ut aperiam inventore\"\\n  },\\n  {\\n    \"userId\": 4,\\n    \"id\": 37,\\n    \"title\": \"provident vel ut sit ratione est\",\\n    \"body\": \"debitis et eaque non officia sed nesciunt pariatur vel\\\\nvoluptatem iste vero et ea\\\\nnumquam aut expedita ipsum nulla in\\\\nvoluptates omnis consequatur aut enim officiis in quam qui\"\\n  },\\n  {\\n    \"userId\": 4,\\n    \"id\": 38,\\n    \"title\": \"explicabo et eos deleniti nostrum ab id repellendus\",\\n    \"body\": \"animi esse sit aut sit nesciunt assumenda eum voluptas\\\\nquia voluptatibus provident quia necessitatibus ea\\\\nrerum repudiandae quia voluptatem delectus fugit aut id quia\\\\nratione optio eos iusto veniam iure\"\\n  },\\n  {\\n    \"userId\": 4,\\n    \"id\": 39,\\n    \"title\": \"eos dolorem iste accusantium est eaque quam\",\\n    \"body\": \"corporis rerum ducimus vel eum accusantium\\\\nmaxime aspernatur a porro possimus iste omnis\\\\nest in deleniti asperiores fuga aut\\\\nvoluptas sapiente vel dolore minus voluptatem incidunt ex\"\\n  },\\n  {\\n    \"userId\": 4,\\n    \"id\": 40,\\n    \"title\": \"enim quo cumque\",\\n    \"body\": \"ut voluptatum aliquid illo tenetur nemo sequi quo facilis\\\\nipsum rem optio mollitia quas\\\\nvoluptatem eum voluptas qui\\\\nunde omnis voluptatem iure quasi maxime voluptas nam\"\\n  },\\n  {\\n    \"userId\": 5,\\n    \"id\": 41,\\n    \"title\": \"non est facere\",\\n    \"body\": \"molestias id nostrum\\\\nexcepturi molestiae dolore omnis repellendus quaerat saepe\\\\nconsectetur iste quaerat tenetur asperiores accusamus ex ut\\\\nnam quidem est ducimus sunt debitis saepe\"\\n  },\\n  {\\n    \"userId\": 5,\\n    \"id\": 42,\\n    \"title\": \"commodi ullam sint et excepturi error explicabo praesentium voluptas\",\\n    \"body\": \"odio fugit voluptatum ducimus earum autem est incidunt voluptatem\\\\nodit reiciendis aliquam sunt sequi nulla dolorem\\\\nnon facere repellendus voluptates quia\\\\nratione harum vitae ut\"\\n  },\\n  {\\n    \"userId\": 5,\\n    \"id\": 43,\\n    \"title\": \"eligendi iste nostrum consequuntur adipisci praesentium sit beatae perferendis\",\\n    \"body\": \"similique fugit est\\\\nillum et dolorum harum et voluptate eaque quidem\\\\nexercitationem quos nam commodi possimus cum odio nihil nulla\\\\ndolorum exercitationem magnam ex et a et distinctio debitis\"\\n  },\\n  {\\n    \"userId\": 5,\\n    \"id\": 44,\\n    \"title\": \"optio dolor molestias sit\",\\n    \"body\": \"temporibus est consectetur dolore\\\\net libero debitis vel velit laboriosam quia\\\\nipsum quibusdam qui itaque fuga rem aut\\\\nea et iure quam sed maxime ut distinctio quae\"\\n  },\\n  {\\n    \"userId\": 5,\\n    \"id\": 45,\\n    \"title\": \"ut numquam possimus omnis eius suscipit laudantium iure\",\\n    \"body\": \"est natus reiciendis nihil possimus aut provident\\\\nex et dolor\\\\nrepellat pariatur est\\\\nnobis rerum repellendus dolorem autem\"\\n  },\\n  {\\n    \"userId\": 5,\\n    \"id\": 46,\\n    \"title\": \"aut quo modi neque nostrum ducimus\",\\n    \"body\": \"voluptatem quisquam iste\\\\nvoluptatibus natus officiis facilis dolorem\\\\nquis quas ipsam\\\\nvel et voluptatum in aliquid\"\\n  },\\n  {\\n    \"userId\": 5,\\n    \"id\": 47,\\n    \"title\": \"quibusdam cumque rem aut deserunt\",\\n    \"body\": \"voluptatem assumenda ut qui ut cupiditate aut impedit veniam\\\\noccaecati nemo illum voluptatem laudantium\\\\nmolestiae beatae rerum ea iure soluta nostrum\\\\neligendi et voluptate\"\\n  },\\n  {\\n    \"userId\": 5,\\n    \"id\": 48,\\n    \"title\": \"ut voluptatem illum ea doloribus itaque eos\",\\n    \"body\": \"voluptates quo voluptatem facilis iure occaecati\\\\nvel assumenda rerum officia et\\\\nillum perspiciatis ab deleniti\\\\nlaudantium repellat ad ut et autem reprehenderit\"\\n  },\\n  {\\n    \"userId\": 5,\\n    \"id\": 49,\\n    \"title\": \"laborum non sunt aut ut assumenda perspiciatis voluptas\",\\n    \"body\": \"inventore ab sint\\\\nnatus fugit id nulla sequi architecto nihil quaerat\\\\neos tenetur in in eum veritatis non\\\\nquibusdam officiis aspernatur cumque aut commodi aut\"\\n  },\\n  {\\n    \"userId\": 5,\\n    \"id\": 50,\\n    \"title\": \"repellendus qui recusandae incidunt voluptates tenetur qui omnis exercitationem\",\\n    \"body\": \"error suscipit maxime adipisci consequuntur recusandae\\\\nvoluptas eligendi et est et voluptates\\\\nquia distinctio ab amet quaerat molestiae et vitae\\\\nadipisci impedit sequi nesciunt quis consectetur\"\\n  },\\n  {\\n    \"userId\": 6,\\n    \"id\": 51,\\n    \"title\": \"soluta aliquam aperiam consequatur illo quis voluptas\",\\n    \"body\": \"sunt dolores aut doloribus\\\\ndolore doloribus voluptates tempora et\\\\ndoloremque et quo\\\\ncum asperiores sit consectetur dolorem\"\\n  },\\n  {\\n    \"userId\": 6,\\n    \"id\": 52,\\n    \"title\": \"qui enim et consequuntur quia animi quis voluptate quibusdam\",\\n    \"body\": \"iusto est quibusdam fuga quas quaerat molestias\\\\na enim ut sit accusamus enim\\\\ntemporibus iusto accusantium provident architecto\\\\nsoluta esse reprehenderit qui laborum\"\\n  },\\n  {\\n    \"userId\": 6,\\n    \"id\": 53,\\n    \"title\": \"ut quo aut ducimus alias\",\\n    \"body\": \"minima harum praesentium eum rerum illo dolore\\\\nquasi exercitationem rerum nam\\\\nporro quis neque quo\\\\nconsequatur minus dolor quidem veritatis sunt non explicabo similique\"\\n  },\\n  {\\n    \"userId\": 6,\\n    \"id\": 54,\\n    \"title\": \"sit asperiores ipsam eveniet odio non quia\",\\n    \"body\": \"totam corporis dignissimos\\\\nvitae dolorem ut occaecati accusamus\\\\nex velit deserunt\\\\net exercitationem vero incidunt corrupti mollitia\"\\n  },\\n  {\\n    \"userId\": 6,\\n    \"id\": 55,\\n    \"title\": \"sit vel voluptatem et non libero\",\\n    \"body\": \"debitis excepturi ea perferendis harum libero optio\\\\neos accusamus cum fuga ut sapiente repudiandae\\\\net ut incidunt omnis molestiae\\\\nnihil ut eum odit\"\\n  },\\n  {\\n    \"userId\": 6,\\n    \"id\": 56,\\n    \"title\": \"qui et at rerum necessitatibus\",\\n    \"body\": \"aut est omnis dolores\\\\nneque rerum quod ea rerum velit pariatur beatae excepturi\\\\net provident voluptas corrupti\\\\ncorporis harum reprehenderit dolores eligendi\"\\n  },\\n  {\\n    \"userId\": 6,\\n    \"id\": 57,\\n    \"title\": \"sed ab est est\",\\n    \"body\": \"at pariatur consequuntur earum quidem\\\\nquo est laudantium soluta voluptatem\\\\nqui ullam et est\\\\net cum voluptas voluptatum repellat est\"\\n  },\\n  {\\n    \"userId\": 6,\\n    \"id\": 58,\\n    \"title\": \"voluptatum itaque dolores nisi et quasi\",\\n    \"body\": \"veniam voluptatum quae adipisci id\\\\net id quia eos ad et dolorem\\\\naliquam quo nisi sunt eos impedit error\\\\nad similique veniam\"\\n  },\\n  {\\n    \"userId\": 6,\\n    \"id\": 59,\\n    \"title\": \"qui commodi dolor at maiores et quis id accusantium\",\\n    \"body\": \"perspiciatis et quam ea autem temporibus non voluptatibus qui\\\\nbeatae a earum officia nesciunt dolores suscipit voluptas et\\\\nanimi doloribus cum rerum quas et magni\\\\net hic ut ut commodi expedita sunt\"\\n  },\\n  {\\n    \"userId\": 6,\\n    \"id\": 60,\\n    \"title\": \"consequatur placeat omnis quisquam quia reprehenderit fugit veritatis facere\",\\n    \"body\": \"asperiores sunt ab assumenda cumque modi velit\\\\nqui esse omnis\\\\nvoluptate et fuga perferendis voluptas\\\\nillo ratione amet aut et omnis\"\\n  },\\n  {\\n    \"userId\": 7,\\n    \"id\": 61,\\n    \"title\": \"voluptatem doloribus consectetur est ut ducimus\",\\n    \"body\": \"ab nemo optio odio\\\\ndelectus tenetur corporis similique nobis repellendus rerum omnis facilis\\\\nvero blanditiis debitis in nesciunt doloribus dicta dolores\\\\nmagnam minus velit\"\\n  },\\n  {\\n    \"userId\": 7,\\n    \"id\": 62,\\n    \"title\": \"beatae enim quia vel\",\\n    \"body\": \"enim aspernatur illo distinctio quae praesentium\\\\nbeatae alias amet delectus qui voluptate distinctio\\\\nodit sint accusantium autem omnis\\\\nquo molestiae omnis ea eveniet optio\"\\n  },\\n  {\\n    \"userId\": 7,\\n    \"id\": 63,\\n    \"title\": \"voluptas blanditiis repellendus animi ducimus error sapiente et suscipit\",\\n    \"body\": \"enim adipisci aspernatur nemo\\\\nnumquam omnis facere dolorem dolor ex quis temporibus incidunt\\\\nab delectus culpa quo reprehenderit blanditiis asperiores\\\\naccusantium ut quam in voluptatibus voluptas ipsam dicta\"\\n  },\\n  {\\n    \"userId\": 7,\\n    \"id\": 64,\\n    \"title\": \"et fugit quas eum in in aperiam quod\",\\n    \"body\": \"id velit blanditiis\\\\neum ea voluptatem\\\\nmolestiae sint occaecati est eos perspiciatis\\\\nincidunt a error provident eaque aut aut qui\"\\n  },\\n  {\\n    \"userId\": 7,\\n    \"id\": 65,\\n    \"title\": \"consequatur id enim sunt et et\",\\n    \"body\": \"voluptatibus ex esse\\\\nsint explicabo est aliquid cumque adipisci fuga repellat labore\\\\nmolestiae corrupti ex saepe at asperiores et perferendis\\\\nnatus id esse incidunt pariatur\"\\n  },\\n  {\\n    \"userId\": 7,\\n    \"id\": 66,\\n    \"title\": \"repudiandae ea animi iusto\",\\n    \"body\": \"officia veritatis tenetur vero qui itaque\\\\nsint non ratione\\\\nsed et ut asperiores iusto eos molestiae nostrum\\\\nveritatis quibusdam et nemo iusto saepe\"\\n  },\\n  {\\n    \"userId\": 7,\\n    \"id\": 67,\\n    \"title\": \"aliquid eos sed fuga est maxime repellendus\",\\n    \"body\": \"reprehenderit id nostrum\\\\nvoluptas doloremque pariatur sint et accusantium quia quod aspernatur\\\\net fugiat amet\\\\nnon sapiente et consequatur necessitatibus molestiae\"\\n  },\\n  {\\n    \"userId\": 7,\\n    \"id\": 68,\\n    \"title\": \"odio quis facere architecto reiciendis optio\",\\n    \"body\": \"magnam molestiae perferendis quisquam\\\\nqui cum reiciendis\\\\nquaerat animi amet hic inventore\\\\nea quia deleniti quidem saepe porro velit\"\\n  },\\n  {\\n    \"userId\": 7,\\n    \"id\": 69,\\n    \"title\": \"fugiat quod pariatur odit minima\",\\n    \"body\": \"officiis error culpa consequatur modi asperiores et\\\\ndolorum assumenda voluptas et vel qui aut vel rerum\\\\nvoluptatum quisquam perspiciatis quia rerum consequatur totam quas\\\\nsequi commodi repudiandae asperiores et saepe a\"\\n  },\\n  {\\n    \"userId\": 7,\\n    \"id\": 70,\\n    \"title\": \"voluptatem laborum magni\",\\n    \"body\": \"sunt repellendus quae\\\\nest asperiores aut deleniti esse accusamus repellendus quia aut\\\\nquia dolorem unde\\\\neum tempora esse dolore\"\\n  },\\n  {\\n    \"userId\": 8,\\n    \"id\": 71,\\n    \"title\": \"et iusto veniam et illum aut fuga\",\\n    \"body\": \"occaecati a doloribus\\\\niste saepe consectetur placeat eum voluptate dolorem et\\\\nqui quo quia voluptas\\\\nrerum ut id enim velit est perferendis\"\\n  },\\n  {\\n    \"userId\": 8,\\n    \"id\": 72,\\n    \"title\": \"sint hic doloribus consequatur eos non id\",\\n    \"body\": \"quam occaecati qui deleniti consectetur\\\\nconsequatur aut facere quas exercitationem aliquam hic voluptas\\\\nneque id sunt ut aut accusamus\\\\nsunt consectetur expedita inventore velit\"\\n  },\\n  {\\n    \"userId\": 8,\\n    \"id\": 73,\\n    \"title\": \"consequuntur deleniti eos quia temporibus ab aliquid at\",\\n    \"body\": \"voluptatem cumque tenetur consequatur expedita ipsum nemo quia explicabo\\\\naut eum minima consequatur\\\\ntempore cumque quae est et\\\\net in consequuntur voluptatem voluptates aut\"\\n  },\\n  {\\n    \"userId\": 8,\\n    \"id\": 74,\\n    \"title\": \"enim unde ratione doloribus quas enim ut sit sapiente\",\\n    \"body\": \"odit qui et et necessitatibus sint veniam\\\\nmollitia amet doloremque molestiae commodi similique magnam et quam\\\\nblanditiis est itaque\\\\nquo et tenetur ratione occaecati molestiae tempora\"\\n  },\\n  {\\n    \"userId\": 8,\\n    \"id\": 75,\\n    \"title\": \"dignissimos eum dolor ut enim et delectus in\",\\n    \"body\": \"commodi non non omnis et voluptas sit\\\\nautem aut nobis magnam et sapiente voluptatem\\\\net laborum repellat qui delectus facilis temporibus\\\\nrerum amet et nemo voluptate expedita adipisci error dolorem\"\\n  },\\n  {\\n    \"userId\": 8,\\n    \"id\": 76,\\n    \"title\": \"doloremque officiis ad et non perferendis\",\\n    \"body\": \"ut animi facere\\\\ntotam iusto tempore\\\\nmolestiae eum aut et dolorem aperiam\\\\nquaerat recusandae totam odio\"\\n  },\\n  {\\n    \"userId\": 8,\\n    \"id\": 77,\\n    \"title\": \"necessitatibus quasi exercitationem odio\",\\n    \"body\": \"modi ut in nulla repudiandae dolorum nostrum eos\\\\naut consequatur omnis\\\\nut incidunt est omnis iste et quam\\\\nvoluptates sapiente aliquam asperiores nobis amet corrupti repudiandae provident\"\\n  },\\n  {\\n    \"userId\": 8,\\n    \"id\": 78,\\n    \"title\": \"quam voluptatibus rerum veritatis\",\\n    \"body\": \"nobis facilis odit tempore cupiditate quia\\\\nassumenda doloribus rerum qui ea\\\\nillum et qui totam\\\\naut veniam repellendus\"\\n  },\\n  {\\n    \"userId\": 8,\\n    \"id\": 79,\\n    \"title\": \"pariatur consequatur quia magnam autem omnis non amet\",\\n    \"body\": \"libero accusantium et et facere incidunt sit dolorem\\\\nnon excepturi qui quia sed laudantium\\\\nquisquam molestiae ducimus est\\\\nofficiis esse molestiae iste et quos\"\\n  },\\n  {\\n    \"userId\": 8,\\n    \"id\": 80,\\n    \"title\": \"labore in ex et explicabo corporis aut quas\",\\n    \"body\": \"ex quod dolorem ea eum iure qui provident amet\\\\nquia qui facere excepturi et repudiandae\\\\nasperiores molestias provident\\\\nminus incidunt vero fugit rerum sint sunt excepturi provident\"\\n  },\\n  {\\n    \"userId\": 9,\\n    \"id\": 81,\\n    \"title\": \"tempora rem veritatis voluptas quo dolores vero\",\\n    \"body\": \"facere qui nesciunt est voluptatum voluptatem nisi\\\\nsequi eligendi necessitatibus ea at rerum itaque\\\\nharum non ratione velit laboriosam quis consequuntur\\\\nex officiis minima doloremque voluptas ut aut\"\\n  },\\n  {\\n    \"userId\": 9,\\n    \"id\": 82,\\n    \"title\": \"laudantium voluptate suscipit sunt enim enim\",\\n    \"body\": \"ut libero sit aut totam inventore sunt\\\\nporro sint qui sunt molestiae\\\\nconsequatur cupiditate qui iste ducimus adipisci\\\\ndolor enim assumenda soluta laboriosam amet iste delectus hic\"\\n  },\\n  {\\n    \"userId\": 9,\\n    \"id\": 83,\\n    \"title\": \"odit et voluptates doloribus alias odio et\",\\n    \"body\": \"est molestiae facilis quis tempora numquam nihil qui\\\\nvoluptate sapiente consequatur est qui\\\\nnecessitatibus autem aut ipsa aperiam modi dolore numquam\\\\nreprehenderit eius rem quibusdam\"\\n  },\\n  {\\n    \"userId\": 9,\\n    \"id\": 84,\\n    \"title\": \"optio ipsam molestias necessitatibus occaecati facilis veritatis dolores aut\",\\n    \"body\": \"sint molestiae magni a et quos\\\\neaque et quasi\\\\nut rerum debitis similique veniam\\\\nrecusandae dignissimos dolor incidunt consequatur odio\"\\n  },\\n  {\\n    \"userId\": 9,\\n    \"id\": 85,\\n    \"title\": \"dolore veritatis porro provident adipisci blanditiis et sunt\",\\n    \"body\": \"similique sed nisi voluptas iusto omnis\\\\nmollitia et quo\\\\nassumenda suscipit officia magnam sint sed tempora\\\\nenim provident pariatur praesentium atque animi amet ratione\"\\n  },\\n  {\\n    \"userId\": 9,\\n    \"id\": 86,\\n    \"title\": \"placeat quia et porro iste\",\\n    \"body\": \"quasi excepturi consequatur iste autem temporibus sed molestiae beatae\\\\net quaerat et esse ut\\\\nvoluptatem occaecati et vel explicabo autem\\\\nasperiores pariatur deserunt optio\"\\n  },\\n  {\\n    \"userId\": 9,\\n    \"id\": 87,\\n    \"title\": \"nostrum quis quasi placeat\",\\n    \"body\": \"eos et molestiae\\\\nnesciunt ut a\\\\ndolores perspiciatis repellendus repellat aliquid\\\\nmagnam sint rem ipsum est\"\\n  },\\n  {\\n    \"userId\": 9,\\n    \"id\": 88,\\n    \"title\": \"sapiente omnis fugit eos\",\\n    \"body\": \"consequatur omnis est praesentium\\\\nducimus non iste\\\\nneque hic deserunt\\\\nvoluptatibus veniam cum et rerum sed\"\\n  },\\n  {\\n    \"userId\": 9,\\n    \"id\": 89,\\n    \"title\": \"sint soluta et vel magnam aut ut sed qui\",\\n    \"body\": \"repellat aut aperiam totam temporibus autem et\\\\narchitecto magnam ut\\\\nconsequatur qui cupiditate rerum quia soluta dignissimos nihil iure\\\\ntempore quas est\"\\n  },\\n  {\\n    \"userId\": 9,\\n    \"id\": 90,\\n    \"title\": \"ad iusto omnis odit dolor voluptatibus\",\\n    \"body\": \"minus omnis soluta quia\\\\nqui sed adipisci voluptates illum ipsam voluptatem\\\\neligendi officia ut in\\\\neos soluta similique molestias praesentium blanditiis\"\\n  },\\n  {\\n    \"userId\": 10,\\n    \"id\": 91,\\n    \"title\": \"aut amet sed\",\\n    \"body\": \"libero voluptate eveniet aperiam sed\\\\nsunt placeat suscipit molestias\\\\nsimilique fugit nam natus\\\\nexpedita consequatur consequatur dolores quia eos et placeat\"\\n  },\\n  {\\n    \"userId\": 10,\\n    \"id\": 92,\\n    \"title\": \"ratione ex tenetur perferendis\",\\n    \"body\": \"aut et excepturi dicta laudantium sint rerum nihil\\\\nlaudantium et at\\\\na neque minima officia et similique libero et\\\\ncommodi voluptate qui\"\\n  },\\n  {\\n    \"userId\": 10,\\n    \"id\": 93,\\n    \"title\": \"beatae soluta recusandae\",\\n    \"body\": \"dolorem quibusdam ducimus consequuntur dicta aut quo laboriosam\\\\nvoluptatem quis enim recusandae ut sed sunt\\\\nnostrum est odit totam\\\\nsit error sed sunt eveniet provident qui nulla\"\\n  },\\n  {\\n    \"userId\": 10,\\n    \"id\": 94,\\n    \"title\": \"qui qui voluptates illo iste minima\",\\n    \"body\": \"aspernatur expedita soluta quo ab ut similique\\\\nexpedita dolores amet\\\\nsed temporibus distinctio magnam saepe deleniti\\\\nomnis facilis nam ipsum natus sint similique omnis\"\\n  },\\n  {\\n    \"userId\": 10,\\n    \"id\": 95,\\n    \"title\": \"id minus libero illum nam ad officiis\",\\n    \"body\": \"earum voluptatem facere provident blanditiis velit laboriosam\\\\npariatur accusamus odio saepe\\\\ncumque dolor qui a dicta ab doloribus consequatur omnis\\\\ncorporis cupiditate eaque assumenda ad nesciunt\"\\n  },\\n  {\\n    \"userId\": 10,\\n    \"id\": 96,\\n    \"title\": \"quaerat velit veniam amet cupiditate aut numquam ut sequi\",\\n    \"body\": \"in non odio excepturi sint eum\\\\nlabore voluptates vitae quia qui et\\\\ninventore itaque rerum\\\\nveniam non exercitationem delectus aut\"\\n  },\\n  {\\n    \"userId\": 10,\\n    \"id\": 97,\\n    \"title\": \"quas fugiat ut perspiciatis vero provident\",\\n    \"body\": \"eum non blanditiis soluta porro quibusdam voluptas\\\\nvel voluptatem qui placeat dolores qui velit aut\\\\nvel inventore aut cumque culpa explicabo aliquid at\\\\nperspiciatis est et voluptatem dignissimos dolor itaque sit nam\"\\n  },\\n  {\\n    \"userId\": 10,\\n    \"id\": 98,\\n    \"title\": \"laboriosam dolor voluptates\",\\n    \"body\": \"doloremque ex facilis sit sint culpa\\\\nsoluta assumenda eligendi non ut eius\\\\nsequi ducimus vel quasi\\\\nveritatis est dolores\"\\n  },\\n  {\\n    \"userId\": 10,\\n    \"id\": 99,\\n    \"title\": \"temporibus sit alias delectus eligendi possimus magni\",\\n    \"body\": \"quo deleniti praesentium dicta non quod\\\\naut est molestias\\\\nmolestias et officia quis nihil\\\\nitaque dolorem quia\"\\n  },\\n  {\\n    \"userId\": 10,\\n    \"id\": 100,\\n    \"title\": \"at nam consequatur ea labore ea harum\",\\n    \"body\": \"cupiditate quo est a modi nesciunt soluta\\\\nipsa voluptas error itaque dicta in\\\\nautem qui minus magnam et distinctio eum\\\\naccusamus ratione error aut\"\\n  }\\n]'"
      ]
     },
     "execution_count": 93,
     "metadata": {},
     "output_type": "execute_result"
    }
   ],
   "source": [
    "# inspect the response data without proper format (binary)\n",
    "response.content"
   ]
  },
  {
   "cell_type": "code",
   "execution_count": 94,
   "id": "92df455a-9ab7-4dcc-8a61-ea4b10f457e3",
   "metadata": {},
   "outputs": [
    {
     "data": {
      "text/plain": [
       "<urllib3.response.HTTPResponse at 0x72fd24ba3f10>"
      ]
     },
     "execution_count": 94,
     "metadata": {},
     "output_type": "execute_result"
    }
   ],
   "source": [
    "# check the type of the response\n",
    "response.raw"
   ]
  },
  {
   "cell_type": "code",
   "execution_count": 95,
   "id": "dc799759-178b-4917-bc8e-53e8175b7f72",
   "metadata": {
    "scrolled": true
   },
   "outputs": [
    {
     "data": {
      "text/plain": [
       "'[\\n  {\\n    \"userId\": 1,\\n    \"id\": 1,\\n    \"title\": \"sunt aut facere repellat provident occaecati excepturi optio reprehenderit\",\\n    \"body\": \"quia et suscipit\\\\nsuscipit recusandae consequuntur expedita et cum\\\\nreprehenderit molestiae ut ut quas totam\\\\nnostrum rerum est autem sunt rem eveniet architecto\"\\n  },\\n  {\\n    \"userId\": 1,\\n    \"id\": 2,\\n    \"title\": \"qui est esse\",\\n    \"body\": \"est rerum tempore vitae\\\\nsequi sint nihil reprehenderit dolor beatae ea dolores neque\\\\nfugiat blanditiis voluptate porro vel nihil molestiae ut reiciendis\\\\nqui aperiam non debitis possimus qui neque nisi nulla\"\\n  },\\n  {\\n    \"userId\": 1,\\n    \"id\": 3,\\n    \"title\": \"ea molestias quasi exercitationem repellat qui ipsa sit aut\",\\n    \"body\": \"et iusto sed quo iure\\\\nvoluptatem occaecati omnis eligendi aut ad\\\\nvoluptatem doloribus vel accusantium quis pariatur\\\\nmolestiae porro eius odio et labore et velit aut\"\\n  },\\n  {\\n    \"userId\": 1,\\n    \"id\": 4,\\n    \"title\": \"eum et est occaecati\",\\n    \"body\": \"ullam et saepe reiciendis voluptatem adipisci\\\\nsit amet autem assumenda provident rerum culpa\\\\nquis hic commodi nesciunt rem tenetur doloremque ipsam iure\\\\nquis sunt voluptatem rerum illo velit\"\\n  },\\n  {\\n    \"userId\": 1,\\n    \"id\": 5,\\n    \"title\": \"nesciunt quas odio\",\\n    \"body\": \"repudiandae veniam quaerat sunt sed\\\\nalias aut fugiat sit autem sed est\\\\nvoluptatem omnis possimus esse voluptatibus quis\\\\nest aut tenetur dolor neque\"\\n  },\\n  {\\n    \"userId\": 1,\\n    \"id\": 6,\\n    \"title\": \"dolorem eum magni eos aperiam quia\",\\n    \"body\": \"ut aspernatur corporis harum nihil quis provident sequi\\\\nmollitia nobis aliquid molestiae\\\\nperspiciatis et ea nemo ab reprehenderit accusantium quas\\\\nvoluptate dolores velit et doloremque molestiae\"\\n  },\\n  {\\n    \"userId\": 1,\\n    \"id\": 7,\\n    \"title\": \"magnam facilis autem\",\\n    \"body\": \"dolore placeat quibusdam ea quo vitae\\\\nmagni quis enim qui quis quo nemo aut saepe\\\\nquidem repellat excepturi ut quia\\\\nsunt ut sequi eos ea sed quas\"\\n  },\\n  {\\n    \"userId\": 1,\\n    \"id\": 8,\\n    \"title\": \"dolorem dolore est ipsam\",\\n    \"body\": \"dignissimos aperiam dolorem qui eum\\\\nfacilis quibusdam animi sint suscipit qui sint possimus cum\\\\nquaerat magni maiores excepturi\\\\nipsam ut commodi dolor voluptatum modi aut vitae\"\\n  },\\n  {\\n    \"userId\": 1,\\n    \"id\": 9,\\n    \"title\": \"nesciunt iure omnis dolorem tempora et accusantium\",\\n    \"body\": \"consectetur animi nesciunt iure dolore\\\\nenim quia ad\\\\nveniam autem ut quam aut nobis\\\\net est aut quod aut provident voluptas autem voluptas\"\\n  },\\n  {\\n    \"userId\": 1,\\n    \"id\": 10,\\n    \"title\": \"optio molestias id quia eum\",\\n    \"body\": \"quo et expedita modi cum officia vel magni\\\\ndoloribus qui repudiandae\\\\nvero nisi sit\\\\nquos veniam quod sed accusamus veritatis error\"\\n  },\\n  {\\n    \"userId\": 2,\\n    \"id\": 11,\\n    \"title\": \"et ea vero quia laudantium autem\",\\n    \"body\": \"delectus reiciendis molestiae occaecati non minima eveniet qui voluptatibus\\\\naccusamus in eum beatae sit\\\\nvel qui neque voluptates ut commodi qui incidunt\\\\nut animi commodi\"\\n  },\\n  {\\n    \"userId\": 2,\\n    \"id\": 12,\\n    \"title\": \"in quibusdam tempore odit est dolorem\",\\n    \"body\": \"itaque id aut magnam\\\\npraesentium quia et ea odit et ea voluptas et\\\\nsapiente quia nihil amet occaecati quia id voluptatem\\\\nincidunt ea est distinctio odio\"\\n  },\\n  {\\n    \"userId\": 2,\\n    \"id\": 13,\\n    \"title\": \"dolorum ut in voluptas mollitia et saepe quo animi\",\\n    \"body\": \"aut dicta possimus sint mollitia voluptas commodi quo doloremque\\\\niste corrupti reiciendis voluptatem eius rerum\\\\nsit cumque quod eligendi laborum minima\\\\nperferendis recusandae assumenda consectetur porro architecto ipsum ipsam\"\\n  },\\n  {\\n    \"userId\": 2,\\n    \"id\": 14,\\n    \"title\": \"voluptatem eligendi optio\",\\n    \"body\": \"fuga et accusamus dolorum perferendis illo voluptas\\\\nnon doloremque neque facere\\\\nad qui dolorum molestiae beatae\\\\nsed aut voluptas totam sit illum\"\\n  },\\n  {\\n    \"userId\": 2,\\n    \"id\": 15,\\n    \"title\": \"eveniet quod temporibus\",\\n    \"body\": \"reprehenderit quos placeat\\\\nvelit minima officia dolores impedit repudiandae molestiae nam\\\\nvoluptas recusandae quis delectus\\\\nofficiis harum fugiat vitae\"\\n  },\\n  {\\n    \"userId\": 2,\\n    \"id\": 16,\\n    \"title\": \"sint suscipit perspiciatis velit dolorum rerum ipsa laboriosam odio\",\\n    \"body\": \"suscipit nam nisi quo aperiam aut\\\\nasperiores eos fugit maiores voluptatibus quia\\\\nvoluptatem quis ullam qui in alias quia est\\\\nconsequatur magni mollitia accusamus ea nisi voluptate dicta\"\\n  },\\n  {\\n    \"userId\": 2,\\n    \"id\": 17,\\n    \"title\": \"fugit voluptas sed molestias voluptatem provident\",\\n    \"body\": \"eos voluptas et aut odit natus earum\\\\naspernatur fuga molestiae ullam\\\\ndeserunt ratione qui eos\\\\nqui nihil ratione nemo velit ut aut id quo\"\\n  },\\n  {\\n    \"userId\": 2,\\n    \"id\": 18,\\n    \"title\": \"voluptate et itaque vero tempora molestiae\",\\n    \"body\": \"eveniet quo quis\\\\nlaborum totam consequatur non dolor\\\\nut et est repudiandae\\\\nest voluptatem vel debitis et magnam\"\\n  },\\n  {\\n    \"userId\": 2,\\n    \"id\": 19,\\n    \"title\": \"adipisci placeat illum aut reiciendis qui\",\\n    \"body\": \"illum quis cupiditate provident sit magnam\\\\nea sed aut omnis\\\\nveniam maiores ullam consequatur atque\\\\nadipisci quo iste expedita sit quos voluptas\"\\n  },\\n  {\\n    \"userId\": 2,\\n    \"id\": 20,\\n    \"title\": \"doloribus ad provident suscipit at\",\\n    \"body\": \"qui consequuntur ducimus possimus quisquam amet similique\\\\nsuscipit porro ipsam amet\\\\neos veritatis officiis exercitationem vel fugit aut necessitatibus totam\\\\nomnis rerum consequatur expedita quidem cumque explicabo\"\\n  },\\n  {\\n    \"userId\": 3,\\n    \"id\": 21,\\n    \"title\": \"asperiores ea ipsam voluptatibus modi minima quia sint\",\\n    \"body\": \"repellat aliquid praesentium dolorem quo\\\\nsed totam minus non itaque\\\\nnihil labore molestiae sunt dolor eveniet hic recusandae veniam\\\\ntempora et tenetur expedita sunt\"\\n  },\\n  {\\n    \"userId\": 3,\\n    \"id\": 22,\\n    \"title\": \"dolor sint quo a velit explicabo quia nam\",\\n    \"body\": \"eos qui et ipsum ipsam suscipit aut\\\\nsed omnis non odio\\\\nexpedita earum mollitia molestiae aut atque rem suscipit\\\\nnam impedit esse\"\\n  },\\n  {\\n    \"userId\": 3,\\n    \"id\": 23,\\n    \"title\": \"maxime id vitae nihil numquam\",\\n    \"body\": \"veritatis unde neque eligendi\\\\nquae quod architecto quo neque vitae\\\\nest illo sit tempora doloremque fugit quod\\\\net et vel beatae sequi ullam sed tenetur perspiciatis\"\\n  },\\n  {\\n    \"userId\": 3,\\n    \"id\": 24,\\n    \"title\": \"autem hic labore sunt dolores incidunt\",\\n    \"body\": \"enim et ex nulla\\\\nomnis voluptas quia qui\\\\nvoluptatem consequatur numquam aliquam sunt\\\\ntotam recusandae id dignissimos aut sed asperiores deserunt\"\\n  },\\n  {\\n    \"userId\": 3,\\n    \"id\": 25,\\n    \"title\": \"rem alias distinctio quo quis\",\\n    \"body\": \"ullam consequatur ut\\\\nomnis quis sit vel consequuntur\\\\nipsa eligendi ipsum molestiae et omnis error nostrum\\\\nmolestiae illo tempore quia et distinctio\"\\n  },\\n  {\\n    \"userId\": 3,\\n    \"id\": 26,\\n    \"title\": \"est et quae odit qui non\",\\n    \"body\": \"similique esse doloribus nihil accusamus\\\\nomnis dolorem fuga consequuntur reprehenderit fugit recusandae temporibus\\\\nperspiciatis cum ut laudantium\\\\nomnis aut molestiae vel vero\"\\n  },\\n  {\\n    \"userId\": 3,\\n    \"id\": 27,\\n    \"title\": \"quasi id et eos tenetur aut quo autem\",\\n    \"body\": \"eum sed dolores ipsam sint possimus debitis occaecati\\\\ndebitis qui qui et\\\\nut placeat enim earum aut odit facilis\\\\nconsequatur suscipit necessitatibus rerum sed inventore temporibus consequatur\"\\n  },\\n  {\\n    \"userId\": 3,\\n    \"id\": 28,\\n    \"title\": \"delectus ullam et corporis nulla voluptas sequi\",\\n    \"body\": \"non et quaerat ex quae ad maiores\\\\nmaiores recusandae totam aut blanditiis mollitia quas illo\\\\nut voluptatibus voluptatem\\\\nsimilique nostrum eum\"\\n  },\\n  {\\n    \"userId\": 3,\\n    \"id\": 29,\\n    \"title\": \"iusto eius quod necessitatibus culpa ea\",\\n    \"body\": \"odit magnam ut saepe sed non qui\\\\ntempora atque nihil\\\\naccusamus illum doloribus illo dolor\\\\neligendi repudiandae odit magni similique sed cum maiores\"\\n  },\\n  {\\n    \"userId\": 3,\\n    \"id\": 30,\\n    \"title\": \"a quo magni similique perferendis\",\\n    \"body\": \"alias dolor cumque\\\\nimpedit blanditiis non eveniet odio maxime\\\\nblanditiis amet eius quis tempora quia autem rem\\\\na provident perspiciatis quia\"\\n  },\\n  {\\n    \"userId\": 4,\\n    \"id\": 31,\\n    \"title\": \"ullam ut quidem id aut vel consequuntur\",\\n    \"body\": \"debitis eius sed quibusdam non quis consectetur vitae\\\\nimpedit ut qui consequatur sed aut in\\\\nquidem sit nostrum et maiores adipisci atque\\\\nquaerat voluptatem adipisci repudiandae\"\\n  },\\n  {\\n    \"userId\": 4,\\n    \"id\": 32,\\n    \"title\": \"doloremque illum aliquid sunt\",\\n    \"body\": \"deserunt eos nobis asperiores et hic\\\\nest debitis repellat molestiae optio\\\\nnihil ratione ut eos beatae quibusdam distinctio maiores\\\\nearum voluptates et aut adipisci ea maiores voluptas maxime\"\\n  },\\n  {\\n    \"userId\": 4,\\n    \"id\": 33,\\n    \"title\": \"qui explicabo molestiae dolorem\",\\n    \"body\": \"rerum ut et numquam laborum odit est sit\\\\nid qui sint in\\\\nquasi tenetur tempore aperiam et quaerat qui in\\\\nrerum officiis sequi cumque quod\"\\n  },\\n  {\\n    \"userId\": 4,\\n    \"id\": 34,\\n    \"title\": \"magnam ut rerum iure\",\\n    \"body\": \"ea velit perferendis earum ut voluptatem voluptate itaque iusto\\\\ntotam pariatur in\\\\nnemo voluptatem voluptatem autem magni tempora minima in\\\\nest distinctio qui assumenda accusamus dignissimos officia nesciunt nobis\"\\n  },\\n  {\\n    \"userId\": 4,\\n    \"id\": 35,\\n    \"title\": \"id nihil consequatur molestias animi provident\",\\n    \"body\": \"nisi error delectus possimus ut eligendi vitae\\\\nplaceat eos harum cupiditate facilis reprehenderit voluptatem beatae\\\\nmodi ducimus quo illum voluptas eligendi\\\\net nobis quia fugit\"\\n  },\\n  {\\n    \"userId\": 4,\\n    \"id\": 36,\\n    \"title\": \"fuga nam accusamus voluptas reiciendis itaque\",\\n    \"body\": \"ad mollitia et omnis minus architecto odit\\\\nvoluptas doloremque maxime aut non ipsa qui alias veniam\\\\nblanditiis culpa aut quia nihil cumque facere et occaecati\\\\nqui aspernatur quia eaque ut aperiam inventore\"\\n  },\\n  {\\n    \"userId\": 4,\\n    \"id\": 37,\\n    \"title\": \"provident vel ut sit ratione est\",\\n    \"body\": \"debitis et eaque non officia sed nesciunt pariatur vel\\\\nvoluptatem iste vero et ea\\\\nnumquam aut expedita ipsum nulla in\\\\nvoluptates omnis consequatur aut enim officiis in quam qui\"\\n  },\\n  {\\n    \"userId\": 4,\\n    \"id\": 38,\\n    \"title\": \"explicabo et eos deleniti nostrum ab id repellendus\",\\n    \"body\": \"animi esse sit aut sit nesciunt assumenda eum voluptas\\\\nquia voluptatibus provident quia necessitatibus ea\\\\nrerum repudiandae quia voluptatem delectus fugit aut id quia\\\\nratione optio eos iusto veniam iure\"\\n  },\\n  {\\n    \"userId\": 4,\\n    \"id\": 39,\\n    \"title\": \"eos dolorem iste accusantium est eaque quam\",\\n    \"body\": \"corporis rerum ducimus vel eum accusantium\\\\nmaxime aspernatur a porro possimus iste omnis\\\\nest in deleniti asperiores fuga aut\\\\nvoluptas sapiente vel dolore minus voluptatem incidunt ex\"\\n  },\\n  {\\n    \"userId\": 4,\\n    \"id\": 40,\\n    \"title\": \"enim quo cumque\",\\n    \"body\": \"ut voluptatum aliquid illo tenetur nemo sequi quo facilis\\\\nipsum rem optio mollitia quas\\\\nvoluptatem eum voluptas qui\\\\nunde omnis voluptatem iure quasi maxime voluptas nam\"\\n  },\\n  {\\n    \"userId\": 5,\\n    \"id\": 41,\\n    \"title\": \"non est facere\",\\n    \"body\": \"molestias id nostrum\\\\nexcepturi molestiae dolore omnis repellendus quaerat saepe\\\\nconsectetur iste quaerat tenetur asperiores accusamus ex ut\\\\nnam quidem est ducimus sunt debitis saepe\"\\n  },\\n  {\\n    \"userId\": 5,\\n    \"id\": 42,\\n    \"title\": \"commodi ullam sint et excepturi error explicabo praesentium voluptas\",\\n    \"body\": \"odio fugit voluptatum ducimus earum autem est incidunt voluptatem\\\\nodit reiciendis aliquam sunt sequi nulla dolorem\\\\nnon facere repellendus voluptates quia\\\\nratione harum vitae ut\"\\n  },\\n  {\\n    \"userId\": 5,\\n    \"id\": 43,\\n    \"title\": \"eligendi iste nostrum consequuntur adipisci praesentium sit beatae perferendis\",\\n    \"body\": \"similique fugit est\\\\nillum et dolorum harum et voluptate eaque quidem\\\\nexercitationem quos nam commodi possimus cum odio nihil nulla\\\\ndolorum exercitationem magnam ex et a et distinctio debitis\"\\n  },\\n  {\\n    \"userId\": 5,\\n    \"id\": 44,\\n    \"title\": \"optio dolor molestias sit\",\\n    \"body\": \"temporibus est consectetur dolore\\\\net libero debitis vel velit laboriosam quia\\\\nipsum quibusdam qui itaque fuga rem aut\\\\nea et iure quam sed maxime ut distinctio quae\"\\n  },\\n  {\\n    \"userId\": 5,\\n    \"id\": 45,\\n    \"title\": \"ut numquam possimus omnis eius suscipit laudantium iure\",\\n    \"body\": \"est natus reiciendis nihil possimus aut provident\\\\nex et dolor\\\\nrepellat pariatur est\\\\nnobis rerum repellendus dolorem autem\"\\n  },\\n  {\\n    \"userId\": 5,\\n    \"id\": 46,\\n    \"title\": \"aut quo modi neque nostrum ducimus\",\\n    \"body\": \"voluptatem quisquam iste\\\\nvoluptatibus natus officiis facilis dolorem\\\\nquis quas ipsam\\\\nvel et voluptatum in aliquid\"\\n  },\\n  {\\n    \"userId\": 5,\\n    \"id\": 47,\\n    \"title\": \"quibusdam cumque rem aut deserunt\",\\n    \"body\": \"voluptatem assumenda ut qui ut cupiditate aut impedit veniam\\\\noccaecati nemo illum voluptatem laudantium\\\\nmolestiae beatae rerum ea iure soluta nostrum\\\\neligendi et voluptate\"\\n  },\\n  {\\n    \"userId\": 5,\\n    \"id\": 48,\\n    \"title\": \"ut voluptatem illum ea doloribus itaque eos\",\\n    \"body\": \"voluptates quo voluptatem facilis iure occaecati\\\\nvel assumenda rerum officia et\\\\nillum perspiciatis ab deleniti\\\\nlaudantium repellat ad ut et autem reprehenderit\"\\n  },\\n  {\\n    \"userId\": 5,\\n    \"id\": 49,\\n    \"title\": \"laborum non sunt aut ut assumenda perspiciatis voluptas\",\\n    \"body\": \"inventore ab sint\\\\nnatus fugit id nulla sequi architecto nihil quaerat\\\\neos tenetur in in eum veritatis non\\\\nquibusdam officiis aspernatur cumque aut commodi aut\"\\n  },\\n  {\\n    \"userId\": 5,\\n    \"id\": 50,\\n    \"title\": \"repellendus qui recusandae incidunt voluptates tenetur qui omnis exercitationem\",\\n    \"body\": \"error suscipit maxime adipisci consequuntur recusandae\\\\nvoluptas eligendi et est et voluptates\\\\nquia distinctio ab amet quaerat molestiae et vitae\\\\nadipisci impedit sequi nesciunt quis consectetur\"\\n  },\\n  {\\n    \"userId\": 6,\\n    \"id\": 51,\\n    \"title\": \"soluta aliquam aperiam consequatur illo quis voluptas\",\\n    \"body\": \"sunt dolores aut doloribus\\\\ndolore doloribus voluptates tempora et\\\\ndoloremque et quo\\\\ncum asperiores sit consectetur dolorem\"\\n  },\\n  {\\n    \"userId\": 6,\\n    \"id\": 52,\\n    \"title\": \"qui enim et consequuntur quia animi quis voluptate quibusdam\",\\n    \"body\": \"iusto est quibusdam fuga quas quaerat molestias\\\\na enim ut sit accusamus enim\\\\ntemporibus iusto accusantium provident architecto\\\\nsoluta esse reprehenderit qui laborum\"\\n  },\\n  {\\n    \"userId\": 6,\\n    \"id\": 53,\\n    \"title\": \"ut quo aut ducimus alias\",\\n    \"body\": \"minima harum praesentium eum rerum illo dolore\\\\nquasi exercitationem rerum nam\\\\nporro quis neque quo\\\\nconsequatur minus dolor quidem veritatis sunt non explicabo similique\"\\n  },\\n  {\\n    \"userId\": 6,\\n    \"id\": 54,\\n    \"title\": \"sit asperiores ipsam eveniet odio non quia\",\\n    \"body\": \"totam corporis dignissimos\\\\nvitae dolorem ut occaecati accusamus\\\\nex velit deserunt\\\\net exercitationem vero incidunt corrupti mollitia\"\\n  },\\n  {\\n    \"userId\": 6,\\n    \"id\": 55,\\n    \"title\": \"sit vel voluptatem et non libero\",\\n    \"body\": \"debitis excepturi ea perferendis harum libero optio\\\\neos accusamus cum fuga ut sapiente repudiandae\\\\net ut incidunt omnis molestiae\\\\nnihil ut eum odit\"\\n  },\\n  {\\n    \"userId\": 6,\\n    \"id\": 56,\\n    \"title\": \"qui et at rerum necessitatibus\",\\n    \"body\": \"aut est omnis dolores\\\\nneque rerum quod ea rerum velit pariatur beatae excepturi\\\\net provident voluptas corrupti\\\\ncorporis harum reprehenderit dolores eligendi\"\\n  },\\n  {\\n    \"userId\": 6,\\n    \"id\": 57,\\n    \"title\": \"sed ab est est\",\\n    \"body\": \"at pariatur consequuntur earum quidem\\\\nquo est laudantium soluta voluptatem\\\\nqui ullam et est\\\\net cum voluptas voluptatum repellat est\"\\n  },\\n  {\\n    \"userId\": 6,\\n    \"id\": 58,\\n    \"title\": \"voluptatum itaque dolores nisi et quasi\",\\n    \"body\": \"veniam voluptatum quae adipisci id\\\\net id quia eos ad et dolorem\\\\naliquam quo nisi sunt eos impedit error\\\\nad similique veniam\"\\n  },\\n  {\\n    \"userId\": 6,\\n    \"id\": 59,\\n    \"title\": \"qui commodi dolor at maiores et quis id accusantium\",\\n    \"body\": \"perspiciatis et quam ea autem temporibus non voluptatibus qui\\\\nbeatae a earum officia nesciunt dolores suscipit voluptas et\\\\nanimi doloribus cum rerum quas et magni\\\\net hic ut ut commodi expedita sunt\"\\n  },\\n  {\\n    \"userId\": 6,\\n    \"id\": 60,\\n    \"title\": \"consequatur placeat omnis quisquam quia reprehenderit fugit veritatis facere\",\\n    \"body\": \"asperiores sunt ab assumenda cumque modi velit\\\\nqui esse omnis\\\\nvoluptate et fuga perferendis voluptas\\\\nillo ratione amet aut et omnis\"\\n  },\\n  {\\n    \"userId\": 7,\\n    \"id\": 61,\\n    \"title\": \"voluptatem doloribus consectetur est ut ducimus\",\\n    \"body\": \"ab nemo optio odio\\\\ndelectus tenetur corporis similique nobis repellendus rerum omnis facilis\\\\nvero blanditiis debitis in nesciunt doloribus dicta dolores\\\\nmagnam minus velit\"\\n  },\\n  {\\n    \"userId\": 7,\\n    \"id\": 62,\\n    \"title\": \"beatae enim quia vel\",\\n    \"body\": \"enim aspernatur illo distinctio quae praesentium\\\\nbeatae alias amet delectus qui voluptate distinctio\\\\nodit sint accusantium autem omnis\\\\nquo molestiae omnis ea eveniet optio\"\\n  },\\n  {\\n    \"userId\": 7,\\n    \"id\": 63,\\n    \"title\": \"voluptas blanditiis repellendus animi ducimus error sapiente et suscipit\",\\n    \"body\": \"enim adipisci aspernatur nemo\\\\nnumquam omnis facere dolorem dolor ex quis temporibus incidunt\\\\nab delectus culpa quo reprehenderit blanditiis asperiores\\\\naccusantium ut quam in voluptatibus voluptas ipsam dicta\"\\n  },\\n  {\\n    \"userId\": 7,\\n    \"id\": 64,\\n    \"title\": \"et fugit quas eum in in aperiam quod\",\\n    \"body\": \"id velit blanditiis\\\\neum ea voluptatem\\\\nmolestiae sint occaecati est eos perspiciatis\\\\nincidunt a error provident eaque aut aut qui\"\\n  },\\n  {\\n    \"userId\": 7,\\n    \"id\": 65,\\n    \"title\": \"consequatur id enim sunt et et\",\\n    \"body\": \"voluptatibus ex esse\\\\nsint explicabo est aliquid cumque adipisci fuga repellat labore\\\\nmolestiae corrupti ex saepe at asperiores et perferendis\\\\nnatus id esse incidunt pariatur\"\\n  },\\n  {\\n    \"userId\": 7,\\n    \"id\": 66,\\n    \"title\": \"repudiandae ea animi iusto\",\\n    \"body\": \"officia veritatis tenetur vero qui itaque\\\\nsint non ratione\\\\nsed et ut asperiores iusto eos molestiae nostrum\\\\nveritatis quibusdam et nemo iusto saepe\"\\n  },\\n  {\\n    \"userId\": 7,\\n    \"id\": 67,\\n    \"title\": \"aliquid eos sed fuga est maxime repellendus\",\\n    \"body\": \"reprehenderit id nostrum\\\\nvoluptas doloremque pariatur sint et accusantium quia quod aspernatur\\\\net fugiat amet\\\\nnon sapiente et consequatur necessitatibus molestiae\"\\n  },\\n  {\\n    \"userId\": 7,\\n    \"id\": 68,\\n    \"title\": \"odio quis facere architecto reiciendis optio\",\\n    \"body\": \"magnam molestiae perferendis quisquam\\\\nqui cum reiciendis\\\\nquaerat animi amet hic inventore\\\\nea quia deleniti quidem saepe porro velit\"\\n  },\\n  {\\n    \"userId\": 7,\\n    \"id\": 69,\\n    \"title\": \"fugiat quod pariatur odit minima\",\\n    \"body\": \"officiis error culpa consequatur modi asperiores et\\\\ndolorum assumenda voluptas et vel qui aut vel rerum\\\\nvoluptatum quisquam perspiciatis quia rerum consequatur totam quas\\\\nsequi commodi repudiandae asperiores et saepe a\"\\n  },\\n  {\\n    \"userId\": 7,\\n    \"id\": 70,\\n    \"title\": \"voluptatem laborum magni\",\\n    \"body\": \"sunt repellendus quae\\\\nest asperiores aut deleniti esse accusamus repellendus quia aut\\\\nquia dolorem unde\\\\neum tempora esse dolore\"\\n  },\\n  {\\n    \"userId\": 8,\\n    \"id\": 71,\\n    \"title\": \"et iusto veniam et illum aut fuga\",\\n    \"body\": \"occaecati a doloribus\\\\niste saepe consectetur placeat eum voluptate dolorem et\\\\nqui quo quia voluptas\\\\nrerum ut id enim velit est perferendis\"\\n  },\\n  {\\n    \"userId\": 8,\\n    \"id\": 72,\\n    \"title\": \"sint hic doloribus consequatur eos non id\",\\n    \"body\": \"quam occaecati qui deleniti consectetur\\\\nconsequatur aut facere quas exercitationem aliquam hic voluptas\\\\nneque id sunt ut aut accusamus\\\\nsunt consectetur expedita inventore velit\"\\n  },\\n  {\\n    \"userId\": 8,\\n    \"id\": 73,\\n    \"title\": \"consequuntur deleniti eos quia temporibus ab aliquid at\",\\n    \"body\": \"voluptatem cumque tenetur consequatur expedita ipsum nemo quia explicabo\\\\naut eum minima consequatur\\\\ntempore cumque quae est et\\\\net in consequuntur voluptatem voluptates aut\"\\n  },\\n  {\\n    \"userId\": 8,\\n    \"id\": 74,\\n    \"title\": \"enim unde ratione doloribus quas enim ut sit sapiente\",\\n    \"body\": \"odit qui et et necessitatibus sint veniam\\\\nmollitia amet doloremque molestiae commodi similique magnam et quam\\\\nblanditiis est itaque\\\\nquo et tenetur ratione occaecati molestiae tempora\"\\n  },\\n  {\\n    \"userId\": 8,\\n    \"id\": 75,\\n    \"title\": \"dignissimos eum dolor ut enim et delectus in\",\\n    \"body\": \"commodi non non omnis et voluptas sit\\\\nautem aut nobis magnam et sapiente voluptatem\\\\net laborum repellat qui delectus facilis temporibus\\\\nrerum amet et nemo voluptate expedita adipisci error dolorem\"\\n  },\\n  {\\n    \"userId\": 8,\\n    \"id\": 76,\\n    \"title\": \"doloremque officiis ad et non perferendis\",\\n    \"body\": \"ut animi facere\\\\ntotam iusto tempore\\\\nmolestiae eum aut et dolorem aperiam\\\\nquaerat recusandae totam odio\"\\n  },\\n  {\\n    \"userId\": 8,\\n    \"id\": 77,\\n    \"title\": \"necessitatibus quasi exercitationem odio\",\\n    \"body\": \"modi ut in nulla repudiandae dolorum nostrum eos\\\\naut consequatur omnis\\\\nut incidunt est omnis iste et quam\\\\nvoluptates sapiente aliquam asperiores nobis amet corrupti repudiandae provident\"\\n  },\\n  {\\n    \"userId\": 8,\\n    \"id\": 78,\\n    \"title\": \"quam voluptatibus rerum veritatis\",\\n    \"body\": \"nobis facilis odit tempore cupiditate quia\\\\nassumenda doloribus rerum qui ea\\\\nillum et qui totam\\\\naut veniam repellendus\"\\n  },\\n  {\\n    \"userId\": 8,\\n    \"id\": 79,\\n    \"title\": \"pariatur consequatur quia magnam autem omnis non amet\",\\n    \"body\": \"libero accusantium et et facere incidunt sit dolorem\\\\nnon excepturi qui quia sed laudantium\\\\nquisquam molestiae ducimus est\\\\nofficiis esse molestiae iste et quos\"\\n  },\\n  {\\n    \"userId\": 8,\\n    \"id\": 80,\\n    \"title\": \"labore in ex et explicabo corporis aut quas\",\\n    \"body\": \"ex quod dolorem ea eum iure qui provident amet\\\\nquia qui facere excepturi et repudiandae\\\\nasperiores molestias provident\\\\nminus incidunt vero fugit rerum sint sunt excepturi provident\"\\n  },\\n  {\\n    \"userId\": 9,\\n    \"id\": 81,\\n    \"title\": \"tempora rem veritatis voluptas quo dolores vero\",\\n    \"body\": \"facere qui nesciunt est voluptatum voluptatem nisi\\\\nsequi eligendi necessitatibus ea at rerum itaque\\\\nharum non ratione velit laboriosam quis consequuntur\\\\nex officiis minima doloremque voluptas ut aut\"\\n  },\\n  {\\n    \"userId\": 9,\\n    \"id\": 82,\\n    \"title\": \"laudantium voluptate suscipit sunt enim enim\",\\n    \"body\": \"ut libero sit aut totam inventore sunt\\\\nporro sint qui sunt molestiae\\\\nconsequatur cupiditate qui iste ducimus adipisci\\\\ndolor enim assumenda soluta laboriosam amet iste delectus hic\"\\n  },\\n  {\\n    \"userId\": 9,\\n    \"id\": 83,\\n    \"title\": \"odit et voluptates doloribus alias odio et\",\\n    \"body\": \"est molestiae facilis quis tempora numquam nihil qui\\\\nvoluptate sapiente consequatur est qui\\\\nnecessitatibus autem aut ipsa aperiam modi dolore numquam\\\\nreprehenderit eius rem quibusdam\"\\n  },\\n  {\\n    \"userId\": 9,\\n    \"id\": 84,\\n    \"title\": \"optio ipsam molestias necessitatibus occaecati facilis veritatis dolores aut\",\\n    \"body\": \"sint molestiae magni a et quos\\\\neaque et quasi\\\\nut rerum debitis similique veniam\\\\nrecusandae dignissimos dolor incidunt consequatur odio\"\\n  },\\n  {\\n    \"userId\": 9,\\n    \"id\": 85,\\n    \"title\": \"dolore veritatis porro provident adipisci blanditiis et sunt\",\\n    \"body\": \"similique sed nisi voluptas iusto omnis\\\\nmollitia et quo\\\\nassumenda suscipit officia magnam sint sed tempora\\\\nenim provident pariatur praesentium atque animi amet ratione\"\\n  },\\n  {\\n    \"userId\": 9,\\n    \"id\": 86,\\n    \"title\": \"placeat quia et porro iste\",\\n    \"body\": \"quasi excepturi consequatur iste autem temporibus sed molestiae beatae\\\\net quaerat et esse ut\\\\nvoluptatem occaecati et vel explicabo autem\\\\nasperiores pariatur deserunt optio\"\\n  },\\n  {\\n    \"userId\": 9,\\n    \"id\": 87,\\n    \"title\": \"nostrum quis quasi placeat\",\\n    \"body\": \"eos et molestiae\\\\nnesciunt ut a\\\\ndolores perspiciatis repellendus repellat aliquid\\\\nmagnam sint rem ipsum est\"\\n  },\\n  {\\n    \"userId\": 9,\\n    \"id\": 88,\\n    \"title\": \"sapiente omnis fugit eos\",\\n    \"body\": \"consequatur omnis est praesentium\\\\nducimus non iste\\\\nneque hic deserunt\\\\nvoluptatibus veniam cum et rerum sed\"\\n  },\\n  {\\n    \"userId\": 9,\\n    \"id\": 89,\\n    \"title\": \"sint soluta et vel magnam aut ut sed qui\",\\n    \"body\": \"repellat aut aperiam totam temporibus autem et\\\\narchitecto magnam ut\\\\nconsequatur qui cupiditate rerum quia soluta dignissimos nihil iure\\\\ntempore quas est\"\\n  },\\n  {\\n    \"userId\": 9,\\n    \"id\": 90,\\n    \"title\": \"ad iusto omnis odit dolor voluptatibus\",\\n    \"body\": \"minus omnis soluta quia\\\\nqui sed adipisci voluptates illum ipsam voluptatem\\\\neligendi officia ut in\\\\neos soluta similique molestias praesentium blanditiis\"\\n  },\\n  {\\n    \"userId\": 10,\\n    \"id\": 91,\\n    \"title\": \"aut amet sed\",\\n    \"body\": \"libero voluptate eveniet aperiam sed\\\\nsunt placeat suscipit molestias\\\\nsimilique fugit nam natus\\\\nexpedita consequatur consequatur dolores quia eos et placeat\"\\n  },\\n  {\\n    \"userId\": 10,\\n    \"id\": 92,\\n    \"title\": \"ratione ex tenetur perferendis\",\\n    \"body\": \"aut et excepturi dicta laudantium sint rerum nihil\\\\nlaudantium et at\\\\na neque minima officia et similique libero et\\\\ncommodi voluptate qui\"\\n  },\\n  {\\n    \"userId\": 10,\\n    \"id\": 93,\\n    \"title\": \"beatae soluta recusandae\",\\n    \"body\": \"dolorem quibusdam ducimus consequuntur dicta aut quo laboriosam\\\\nvoluptatem quis enim recusandae ut sed sunt\\\\nnostrum est odit totam\\\\nsit error sed sunt eveniet provident qui nulla\"\\n  },\\n  {\\n    \"userId\": 10,\\n    \"id\": 94,\\n    \"title\": \"qui qui voluptates illo iste minima\",\\n    \"body\": \"aspernatur expedita soluta quo ab ut similique\\\\nexpedita dolores amet\\\\nsed temporibus distinctio magnam saepe deleniti\\\\nomnis facilis nam ipsum natus sint similique omnis\"\\n  },\\n  {\\n    \"userId\": 10,\\n    \"id\": 95,\\n    \"title\": \"id minus libero illum nam ad officiis\",\\n    \"body\": \"earum voluptatem facere provident blanditiis velit laboriosam\\\\npariatur accusamus odio saepe\\\\ncumque dolor qui a dicta ab doloribus consequatur omnis\\\\ncorporis cupiditate eaque assumenda ad nesciunt\"\\n  },\\n  {\\n    \"userId\": 10,\\n    \"id\": 96,\\n    \"title\": \"quaerat velit veniam amet cupiditate aut numquam ut sequi\",\\n    \"body\": \"in non odio excepturi sint eum\\\\nlabore voluptates vitae quia qui et\\\\ninventore itaque rerum\\\\nveniam non exercitationem delectus aut\"\\n  },\\n  {\\n    \"userId\": 10,\\n    \"id\": 97,\\n    \"title\": \"quas fugiat ut perspiciatis vero provident\",\\n    \"body\": \"eum non blanditiis soluta porro quibusdam voluptas\\\\nvel voluptatem qui placeat dolores qui velit aut\\\\nvel inventore aut cumque culpa explicabo aliquid at\\\\nperspiciatis est et voluptatem dignissimos dolor itaque sit nam\"\\n  },\\n  {\\n    \"userId\": 10,\\n    \"id\": 98,\\n    \"title\": \"laboriosam dolor voluptates\",\\n    \"body\": \"doloremque ex facilis sit sint culpa\\\\nsoluta assumenda eligendi non ut eius\\\\nsequi ducimus vel quasi\\\\nveritatis est dolores\"\\n  },\\n  {\\n    \"userId\": 10,\\n    \"id\": 99,\\n    \"title\": \"temporibus sit alias delectus eligendi possimus magni\",\\n    \"body\": \"quo deleniti praesentium dicta non quod\\\\naut est molestias\\\\nmolestias et officia quis nihil\\\\nitaque dolorem quia\"\\n  },\\n  {\\n    \"userId\": 10,\\n    \"id\": 100,\\n    \"title\": \"at nam consequatur ea labore ea harum\",\\n    \"body\": \"cupiditate quo est a modi nesciunt soluta\\\\nipsa voluptas error itaque dicta in\\\\nautem qui minus magnam et distinctio eum\\\\naccusamus ratione error aut\"\\n  }\\n]'"
      ]
     },
     "execution_count": 95,
     "metadata": {},
     "output_type": "execute_result"
    }
   ],
   "source": [
    "# inspect the response data without proper format\n",
    "response.text"
   ]
  },
  {
   "cell_type": "code",
   "execution_count": 96,
   "id": "6d512c7b-3e5d-48db-9ab1-b54bb2bf6783",
   "metadata": {},
   "outputs": [
    {
     "data": {
      "text/plain": [
       "'utf-8'"
      ]
     },
     "execution_count": 96,
     "metadata": {},
     "output_type": "execute_result"
    }
   ],
   "source": [
    "response.encoding"
   ]
  },
  {
   "cell_type": "code",
   "execution_count": 97,
   "id": "0d4a4ba1-c0fe-43c5-a498-1175286147ab",
   "metadata": {
    "scrolled": true
   },
   "outputs": [
    {
     "data": {
      "text/plain": [
       "[{'userId': 1,\n",
       "  'id': 1,\n",
       "  'title': 'sunt aut facere repellat provident occaecati excepturi optio reprehenderit',\n",
       "  'body': 'quia et suscipit\\nsuscipit recusandae consequuntur expedita et cum\\nreprehenderit molestiae ut ut quas totam\\nnostrum rerum est autem sunt rem eveniet architecto'},\n",
       " {'userId': 1,\n",
       "  'id': 2,\n",
       "  'title': 'qui est esse',\n",
       "  'body': 'est rerum tempore vitae\\nsequi sint nihil reprehenderit dolor beatae ea dolores neque\\nfugiat blanditiis voluptate porro vel nihil molestiae ut reiciendis\\nqui aperiam non debitis possimus qui neque nisi nulla'},\n",
       " {'userId': 1,\n",
       "  'id': 3,\n",
       "  'title': 'ea molestias quasi exercitationem repellat qui ipsa sit aut',\n",
       "  'body': 'et iusto sed quo iure\\nvoluptatem occaecati omnis eligendi aut ad\\nvoluptatem doloribus vel accusantium quis pariatur\\nmolestiae porro eius odio et labore et velit aut'},\n",
       " {'userId': 1,\n",
       "  'id': 4,\n",
       "  'title': 'eum et est occaecati',\n",
       "  'body': 'ullam et saepe reiciendis voluptatem adipisci\\nsit amet autem assumenda provident rerum culpa\\nquis hic commodi nesciunt rem tenetur doloremque ipsam iure\\nquis sunt voluptatem rerum illo velit'},\n",
       " {'userId': 1,\n",
       "  'id': 5,\n",
       "  'title': 'nesciunt quas odio',\n",
       "  'body': 'repudiandae veniam quaerat sunt sed\\nalias aut fugiat sit autem sed est\\nvoluptatem omnis possimus esse voluptatibus quis\\nest aut tenetur dolor neque'},\n",
       " {'userId': 1,\n",
       "  'id': 6,\n",
       "  'title': 'dolorem eum magni eos aperiam quia',\n",
       "  'body': 'ut aspernatur corporis harum nihil quis provident sequi\\nmollitia nobis aliquid molestiae\\nperspiciatis et ea nemo ab reprehenderit accusantium quas\\nvoluptate dolores velit et doloremque molestiae'},\n",
       " {'userId': 1,\n",
       "  'id': 7,\n",
       "  'title': 'magnam facilis autem',\n",
       "  'body': 'dolore placeat quibusdam ea quo vitae\\nmagni quis enim qui quis quo nemo aut saepe\\nquidem repellat excepturi ut quia\\nsunt ut sequi eos ea sed quas'},\n",
       " {'userId': 1,\n",
       "  'id': 8,\n",
       "  'title': 'dolorem dolore est ipsam',\n",
       "  'body': 'dignissimos aperiam dolorem qui eum\\nfacilis quibusdam animi sint suscipit qui sint possimus cum\\nquaerat magni maiores excepturi\\nipsam ut commodi dolor voluptatum modi aut vitae'},\n",
       " {'userId': 1,\n",
       "  'id': 9,\n",
       "  'title': 'nesciunt iure omnis dolorem tempora et accusantium',\n",
       "  'body': 'consectetur animi nesciunt iure dolore\\nenim quia ad\\nveniam autem ut quam aut nobis\\net est aut quod aut provident voluptas autem voluptas'},\n",
       " {'userId': 1,\n",
       "  'id': 10,\n",
       "  'title': 'optio molestias id quia eum',\n",
       "  'body': 'quo et expedita modi cum officia vel magni\\ndoloribus qui repudiandae\\nvero nisi sit\\nquos veniam quod sed accusamus veritatis error'},\n",
       " {'userId': 2,\n",
       "  'id': 11,\n",
       "  'title': 'et ea vero quia laudantium autem',\n",
       "  'body': 'delectus reiciendis molestiae occaecati non minima eveniet qui voluptatibus\\naccusamus in eum beatae sit\\nvel qui neque voluptates ut commodi qui incidunt\\nut animi commodi'},\n",
       " {'userId': 2,\n",
       "  'id': 12,\n",
       "  'title': 'in quibusdam tempore odit est dolorem',\n",
       "  'body': 'itaque id aut magnam\\npraesentium quia et ea odit et ea voluptas et\\nsapiente quia nihil amet occaecati quia id voluptatem\\nincidunt ea est distinctio odio'},\n",
       " {'userId': 2,\n",
       "  'id': 13,\n",
       "  'title': 'dolorum ut in voluptas mollitia et saepe quo animi',\n",
       "  'body': 'aut dicta possimus sint mollitia voluptas commodi quo doloremque\\niste corrupti reiciendis voluptatem eius rerum\\nsit cumque quod eligendi laborum minima\\nperferendis recusandae assumenda consectetur porro architecto ipsum ipsam'},\n",
       " {'userId': 2,\n",
       "  'id': 14,\n",
       "  'title': 'voluptatem eligendi optio',\n",
       "  'body': 'fuga et accusamus dolorum perferendis illo voluptas\\nnon doloremque neque facere\\nad qui dolorum molestiae beatae\\nsed aut voluptas totam sit illum'},\n",
       " {'userId': 2,\n",
       "  'id': 15,\n",
       "  'title': 'eveniet quod temporibus',\n",
       "  'body': 'reprehenderit quos placeat\\nvelit minima officia dolores impedit repudiandae molestiae nam\\nvoluptas recusandae quis delectus\\nofficiis harum fugiat vitae'},\n",
       " {'userId': 2,\n",
       "  'id': 16,\n",
       "  'title': 'sint suscipit perspiciatis velit dolorum rerum ipsa laboriosam odio',\n",
       "  'body': 'suscipit nam nisi quo aperiam aut\\nasperiores eos fugit maiores voluptatibus quia\\nvoluptatem quis ullam qui in alias quia est\\nconsequatur magni mollitia accusamus ea nisi voluptate dicta'},\n",
       " {'userId': 2,\n",
       "  'id': 17,\n",
       "  'title': 'fugit voluptas sed molestias voluptatem provident',\n",
       "  'body': 'eos voluptas et aut odit natus earum\\naspernatur fuga molestiae ullam\\ndeserunt ratione qui eos\\nqui nihil ratione nemo velit ut aut id quo'},\n",
       " {'userId': 2,\n",
       "  'id': 18,\n",
       "  'title': 'voluptate et itaque vero tempora molestiae',\n",
       "  'body': 'eveniet quo quis\\nlaborum totam consequatur non dolor\\nut et est repudiandae\\nest voluptatem vel debitis et magnam'},\n",
       " {'userId': 2,\n",
       "  'id': 19,\n",
       "  'title': 'adipisci placeat illum aut reiciendis qui',\n",
       "  'body': 'illum quis cupiditate provident sit magnam\\nea sed aut omnis\\nveniam maiores ullam consequatur atque\\nadipisci quo iste expedita sit quos voluptas'},\n",
       " {'userId': 2,\n",
       "  'id': 20,\n",
       "  'title': 'doloribus ad provident suscipit at',\n",
       "  'body': 'qui consequuntur ducimus possimus quisquam amet similique\\nsuscipit porro ipsam amet\\neos veritatis officiis exercitationem vel fugit aut necessitatibus totam\\nomnis rerum consequatur expedita quidem cumque explicabo'},\n",
       " {'userId': 3,\n",
       "  'id': 21,\n",
       "  'title': 'asperiores ea ipsam voluptatibus modi minima quia sint',\n",
       "  'body': 'repellat aliquid praesentium dolorem quo\\nsed totam minus non itaque\\nnihil labore molestiae sunt dolor eveniet hic recusandae veniam\\ntempora et tenetur expedita sunt'},\n",
       " {'userId': 3,\n",
       "  'id': 22,\n",
       "  'title': 'dolor sint quo a velit explicabo quia nam',\n",
       "  'body': 'eos qui et ipsum ipsam suscipit aut\\nsed omnis non odio\\nexpedita earum mollitia molestiae aut atque rem suscipit\\nnam impedit esse'},\n",
       " {'userId': 3,\n",
       "  'id': 23,\n",
       "  'title': 'maxime id vitae nihil numquam',\n",
       "  'body': 'veritatis unde neque eligendi\\nquae quod architecto quo neque vitae\\nest illo sit tempora doloremque fugit quod\\net et vel beatae sequi ullam sed tenetur perspiciatis'},\n",
       " {'userId': 3,\n",
       "  'id': 24,\n",
       "  'title': 'autem hic labore sunt dolores incidunt',\n",
       "  'body': 'enim et ex nulla\\nomnis voluptas quia qui\\nvoluptatem consequatur numquam aliquam sunt\\ntotam recusandae id dignissimos aut sed asperiores deserunt'},\n",
       " {'userId': 3,\n",
       "  'id': 25,\n",
       "  'title': 'rem alias distinctio quo quis',\n",
       "  'body': 'ullam consequatur ut\\nomnis quis sit vel consequuntur\\nipsa eligendi ipsum molestiae et omnis error nostrum\\nmolestiae illo tempore quia et distinctio'},\n",
       " {'userId': 3,\n",
       "  'id': 26,\n",
       "  'title': 'est et quae odit qui non',\n",
       "  'body': 'similique esse doloribus nihil accusamus\\nomnis dolorem fuga consequuntur reprehenderit fugit recusandae temporibus\\nperspiciatis cum ut laudantium\\nomnis aut molestiae vel vero'},\n",
       " {'userId': 3,\n",
       "  'id': 27,\n",
       "  'title': 'quasi id et eos tenetur aut quo autem',\n",
       "  'body': 'eum sed dolores ipsam sint possimus debitis occaecati\\ndebitis qui qui et\\nut placeat enim earum aut odit facilis\\nconsequatur suscipit necessitatibus rerum sed inventore temporibus consequatur'},\n",
       " {'userId': 3,\n",
       "  'id': 28,\n",
       "  'title': 'delectus ullam et corporis nulla voluptas sequi',\n",
       "  'body': 'non et quaerat ex quae ad maiores\\nmaiores recusandae totam aut blanditiis mollitia quas illo\\nut voluptatibus voluptatem\\nsimilique nostrum eum'},\n",
       " {'userId': 3,\n",
       "  'id': 29,\n",
       "  'title': 'iusto eius quod necessitatibus culpa ea',\n",
       "  'body': 'odit magnam ut saepe sed non qui\\ntempora atque nihil\\naccusamus illum doloribus illo dolor\\neligendi repudiandae odit magni similique sed cum maiores'},\n",
       " {'userId': 3,\n",
       "  'id': 30,\n",
       "  'title': 'a quo magni similique perferendis',\n",
       "  'body': 'alias dolor cumque\\nimpedit blanditiis non eveniet odio maxime\\nblanditiis amet eius quis tempora quia autem rem\\na provident perspiciatis quia'},\n",
       " {'userId': 4,\n",
       "  'id': 31,\n",
       "  'title': 'ullam ut quidem id aut vel consequuntur',\n",
       "  'body': 'debitis eius sed quibusdam non quis consectetur vitae\\nimpedit ut qui consequatur sed aut in\\nquidem sit nostrum et maiores adipisci atque\\nquaerat voluptatem adipisci repudiandae'},\n",
       " {'userId': 4,\n",
       "  'id': 32,\n",
       "  'title': 'doloremque illum aliquid sunt',\n",
       "  'body': 'deserunt eos nobis asperiores et hic\\nest debitis repellat molestiae optio\\nnihil ratione ut eos beatae quibusdam distinctio maiores\\nearum voluptates et aut adipisci ea maiores voluptas maxime'},\n",
       " {'userId': 4,\n",
       "  'id': 33,\n",
       "  'title': 'qui explicabo molestiae dolorem',\n",
       "  'body': 'rerum ut et numquam laborum odit est sit\\nid qui sint in\\nquasi tenetur tempore aperiam et quaerat qui in\\nrerum officiis sequi cumque quod'},\n",
       " {'userId': 4,\n",
       "  'id': 34,\n",
       "  'title': 'magnam ut rerum iure',\n",
       "  'body': 'ea velit perferendis earum ut voluptatem voluptate itaque iusto\\ntotam pariatur in\\nnemo voluptatem voluptatem autem magni tempora minima in\\nest distinctio qui assumenda accusamus dignissimos officia nesciunt nobis'},\n",
       " {'userId': 4,\n",
       "  'id': 35,\n",
       "  'title': 'id nihil consequatur molestias animi provident',\n",
       "  'body': 'nisi error delectus possimus ut eligendi vitae\\nplaceat eos harum cupiditate facilis reprehenderit voluptatem beatae\\nmodi ducimus quo illum voluptas eligendi\\net nobis quia fugit'},\n",
       " {'userId': 4,\n",
       "  'id': 36,\n",
       "  'title': 'fuga nam accusamus voluptas reiciendis itaque',\n",
       "  'body': 'ad mollitia et omnis minus architecto odit\\nvoluptas doloremque maxime aut non ipsa qui alias veniam\\nblanditiis culpa aut quia nihil cumque facere et occaecati\\nqui aspernatur quia eaque ut aperiam inventore'},\n",
       " {'userId': 4,\n",
       "  'id': 37,\n",
       "  'title': 'provident vel ut sit ratione est',\n",
       "  'body': 'debitis et eaque non officia sed nesciunt pariatur vel\\nvoluptatem iste vero et ea\\nnumquam aut expedita ipsum nulla in\\nvoluptates omnis consequatur aut enim officiis in quam qui'},\n",
       " {'userId': 4,\n",
       "  'id': 38,\n",
       "  'title': 'explicabo et eos deleniti nostrum ab id repellendus',\n",
       "  'body': 'animi esse sit aut sit nesciunt assumenda eum voluptas\\nquia voluptatibus provident quia necessitatibus ea\\nrerum repudiandae quia voluptatem delectus fugit aut id quia\\nratione optio eos iusto veniam iure'},\n",
       " {'userId': 4,\n",
       "  'id': 39,\n",
       "  'title': 'eos dolorem iste accusantium est eaque quam',\n",
       "  'body': 'corporis rerum ducimus vel eum accusantium\\nmaxime aspernatur a porro possimus iste omnis\\nest in deleniti asperiores fuga aut\\nvoluptas sapiente vel dolore minus voluptatem incidunt ex'},\n",
       " {'userId': 4,\n",
       "  'id': 40,\n",
       "  'title': 'enim quo cumque',\n",
       "  'body': 'ut voluptatum aliquid illo tenetur nemo sequi quo facilis\\nipsum rem optio mollitia quas\\nvoluptatem eum voluptas qui\\nunde omnis voluptatem iure quasi maxime voluptas nam'},\n",
       " {'userId': 5,\n",
       "  'id': 41,\n",
       "  'title': 'non est facere',\n",
       "  'body': 'molestias id nostrum\\nexcepturi molestiae dolore omnis repellendus quaerat saepe\\nconsectetur iste quaerat tenetur asperiores accusamus ex ut\\nnam quidem est ducimus sunt debitis saepe'},\n",
       " {'userId': 5,\n",
       "  'id': 42,\n",
       "  'title': 'commodi ullam sint et excepturi error explicabo praesentium voluptas',\n",
       "  'body': 'odio fugit voluptatum ducimus earum autem est incidunt voluptatem\\nodit reiciendis aliquam sunt sequi nulla dolorem\\nnon facere repellendus voluptates quia\\nratione harum vitae ut'},\n",
       " {'userId': 5,\n",
       "  'id': 43,\n",
       "  'title': 'eligendi iste nostrum consequuntur adipisci praesentium sit beatae perferendis',\n",
       "  'body': 'similique fugit est\\nillum et dolorum harum et voluptate eaque quidem\\nexercitationem quos nam commodi possimus cum odio nihil nulla\\ndolorum exercitationem magnam ex et a et distinctio debitis'},\n",
       " {'userId': 5,\n",
       "  'id': 44,\n",
       "  'title': 'optio dolor molestias sit',\n",
       "  'body': 'temporibus est consectetur dolore\\net libero debitis vel velit laboriosam quia\\nipsum quibusdam qui itaque fuga rem aut\\nea et iure quam sed maxime ut distinctio quae'},\n",
       " {'userId': 5,\n",
       "  'id': 45,\n",
       "  'title': 'ut numquam possimus omnis eius suscipit laudantium iure',\n",
       "  'body': 'est natus reiciendis nihil possimus aut provident\\nex et dolor\\nrepellat pariatur est\\nnobis rerum repellendus dolorem autem'},\n",
       " {'userId': 5,\n",
       "  'id': 46,\n",
       "  'title': 'aut quo modi neque nostrum ducimus',\n",
       "  'body': 'voluptatem quisquam iste\\nvoluptatibus natus officiis facilis dolorem\\nquis quas ipsam\\nvel et voluptatum in aliquid'},\n",
       " {'userId': 5,\n",
       "  'id': 47,\n",
       "  'title': 'quibusdam cumque rem aut deserunt',\n",
       "  'body': 'voluptatem assumenda ut qui ut cupiditate aut impedit veniam\\noccaecati nemo illum voluptatem laudantium\\nmolestiae beatae rerum ea iure soluta nostrum\\neligendi et voluptate'},\n",
       " {'userId': 5,\n",
       "  'id': 48,\n",
       "  'title': 'ut voluptatem illum ea doloribus itaque eos',\n",
       "  'body': 'voluptates quo voluptatem facilis iure occaecati\\nvel assumenda rerum officia et\\nillum perspiciatis ab deleniti\\nlaudantium repellat ad ut et autem reprehenderit'},\n",
       " {'userId': 5,\n",
       "  'id': 49,\n",
       "  'title': 'laborum non sunt aut ut assumenda perspiciatis voluptas',\n",
       "  'body': 'inventore ab sint\\nnatus fugit id nulla sequi architecto nihil quaerat\\neos tenetur in in eum veritatis non\\nquibusdam officiis aspernatur cumque aut commodi aut'},\n",
       " {'userId': 5,\n",
       "  'id': 50,\n",
       "  'title': 'repellendus qui recusandae incidunt voluptates tenetur qui omnis exercitationem',\n",
       "  'body': 'error suscipit maxime adipisci consequuntur recusandae\\nvoluptas eligendi et est et voluptates\\nquia distinctio ab amet quaerat molestiae et vitae\\nadipisci impedit sequi nesciunt quis consectetur'},\n",
       " {'userId': 6,\n",
       "  'id': 51,\n",
       "  'title': 'soluta aliquam aperiam consequatur illo quis voluptas',\n",
       "  'body': 'sunt dolores aut doloribus\\ndolore doloribus voluptates tempora et\\ndoloremque et quo\\ncum asperiores sit consectetur dolorem'},\n",
       " {'userId': 6,\n",
       "  'id': 52,\n",
       "  'title': 'qui enim et consequuntur quia animi quis voluptate quibusdam',\n",
       "  'body': 'iusto est quibusdam fuga quas quaerat molestias\\na enim ut sit accusamus enim\\ntemporibus iusto accusantium provident architecto\\nsoluta esse reprehenderit qui laborum'},\n",
       " {'userId': 6,\n",
       "  'id': 53,\n",
       "  'title': 'ut quo aut ducimus alias',\n",
       "  'body': 'minima harum praesentium eum rerum illo dolore\\nquasi exercitationem rerum nam\\nporro quis neque quo\\nconsequatur minus dolor quidem veritatis sunt non explicabo similique'},\n",
       " {'userId': 6,\n",
       "  'id': 54,\n",
       "  'title': 'sit asperiores ipsam eveniet odio non quia',\n",
       "  'body': 'totam corporis dignissimos\\nvitae dolorem ut occaecati accusamus\\nex velit deserunt\\net exercitationem vero incidunt corrupti mollitia'},\n",
       " {'userId': 6,\n",
       "  'id': 55,\n",
       "  'title': 'sit vel voluptatem et non libero',\n",
       "  'body': 'debitis excepturi ea perferendis harum libero optio\\neos accusamus cum fuga ut sapiente repudiandae\\net ut incidunt omnis molestiae\\nnihil ut eum odit'},\n",
       " {'userId': 6,\n",
       "  'id': 56,\n",
       "  'title': 'qui et at rerum necessitatibus',\n",
       "  'body': 'aut est omnis dolores\\nneque rerum quod ea rerum velit pariatur beatae excepturi\\net provident voluptas corrupti\\ncorporis harum reprehenderit dolores eligendi'},\n",
       " {'userId': 6,\n",
       "  'id': 57,\n",
       "  'title': 'sed ab est est',\n",
       "  'body': 'at pariatur consequuntur earum quidem\\nquo est laudantium soluta voluptatem\\nqui ullam et est\\net cum voluptas voluptatum repellat est'},\n",
       " {'userId': 6,\n",
       "  'id': 58,\n",
       "  'title': 'voluptatum itaque dolores nisi et quasi',\n",
       "  'body': 'veniam voluptatum quae adipisci id\\net id quia eos ad et dolorem\\naliquam quo nisi sunt eos impedit error\\nad similique veniam'},\n",
       " {'userId': 6,\n",
       "  'id': 59,\n",
       "  'title': 'qui commodi dolor at maiores et quis id accusantium',\n",
       "  'body': 'perspiciatis et quam ea autem temporibus non voluptatibus qui\\nbeatae a earum officia nesciunt dolores suscipit voluptas et\\nanimi doloribus cum rerum quas et magni\\net hic ut ut commodi expedita sunt'},\n",
       " {'userId': 6,\n",
       "  'id': 60,\n",
       "  'title': 'consequatur placeat omnis quisquam quia reprehenderit fugit veritatis facere',\n",
       "  'body': 'asperiores sunt ab assumenda cumque modi velit\\nqui esse omnis\\nvoluptate et fuga perferendis voluptas\\nillo ratione amet aut et omnis'},\n",
       " {'userId': 7,\n",
       "  'id': 61,\n",
       "  'title': 'voluptatem doloribus consectetur est ut ducimus',\n",
       "  'body': 'ab nemo optio odio\\ndelectus tenetur corporis similique nobis repellendus rerum omnis facilis\\nvero blanditiis debitis in nesciunt doloribus dicta dolores\\nmagnam minus velit'},\n",
       " {'userId': 7,\n",
       "  'id': 62,\n",
       "  'title': 'beatae enim quia vel',\n",
       "  'body': 'enim aspernatur illo distinctio quae praesentium\\nbeatae alias amet delectus qui voluptate distinctio\\nodit sint accusantium autem omnis\\nquo molestiae omnis ea eveniet optio'},\n",
       " {'userId': 7,\n",
       "  'id': 63,\n",
       "  'title': 'voluptas blanditiis repellendus animi ducimus error sapiente et suscipit',\n",
       "  'body': 'enim adipisci aspernatur nemo\\nnumquam omnis facere dolorem dolor ex quis temporibus incidunt\\nab delectus culpa quo reprehenderit blanditiis asperiores\\naccusantium ut quam in voluptatibus voluptas ipsam dicta'},\n",
       " {'userId': 7,\n",
       "  'id': 64,\n",
       "  'title': 'et fugit quas eum in in aperiam quod',\n",
       "  'body': 'id velit blanditiis\\neum ea voluptatem\\nmolestiae sint occaecati est eos perspiciatis\\nincidunt a error provident eaque aut aut qui'},\n",
       " {'userId': 7,\n",
       "  'id': 65,\n",
       "  'title': 'consequatur id enim sunt et et',\n",
       "  'body': 'voluptatibus ex esse\\nsint explicabo est aliquid cumque adipisci fuga repellat labore\\nmolestiae corrupti ex saepe at asperiores et perferendis\\nnatus id esse incidunt pariatur'},\n",
       " {'userId': 7,\n",
       "  'id': 66,\n",
       "  'title': 'repudiandae ea animi iusto',\n",
       "  'body': 'officia veritatis tenetur vero qui itaque\\nsint non ratione\\nsed et ut asperiores iusto eos molestiae nostrum\\nveritatis quibusdam et nemo iusto saepe'},\n",
       " {'userId': 7,\n",
       "  'id': 67,\n",
       "  'title': 'aliquid eos sed fuga est maxime repellendus',\n",
       "  'body': 'reprehenderit id nostrum\\nvoluptas doloremque pariatur sint et accusantium quia quod aspernatur\\net fugiat amet\\nnon sapiente et consequatur necessitatibus molestiae'},\n",
       " {'userId': 7,\n",
       "  'id': 68,\n",
       "  'title': 'odio quis facere architecto reiciendis optio',\n",
       "  'body': 'magnam molestiae perferendis quisquam\\nqui cum reiciendis\\nquaerat animi amet hic inventore\\nea quia deleniti quidem saepe porro velit'},\n",
       " {'userId': 7,\n",
       "  'id': 69,\n",
       "  'title': 'fugiat quod pariatur odit minima',\n",
       "  'body': 'officiis error culpa consequatur modi asperiores et\\ndolorum assumenda voluptas et vel qui aut vel rerum\\nvoluptatum quisquam perspiciatis quia rerum consequatur totam quas\\nsequi commodi repudiandae asperiores et saepe a'},\n",
       " {'userId': 7,\n",
       "  'id': 70,\n",
       "  'title': 'voluptatem laborum magni',\n",
       "  'body': 'sunt repellendus quae\\nest asperiores aut deleniti esse accusamus repellendus quia aut\\nquia dolorem unde\\neum tempora esse dolore'},\n",
       " {'userId': 8,\n",
       "  'id': 71,\n",
       "  'title': 'et iusto veniam et illum aut fuga',\n",
       "  'body': 'occaecati a doloribus\\niste saepe consectetur placeat eum voluptate dolorem et\\nqui quo quia voluptas\\nrerum ut id enim velit est perferendis'},\n",
       " {'userId': 8,\n",
       "  'id': 72,\n",
       "  'title': 'sint hic doloribus consequatur eos non id',\n",
       "  'body': 'quam occaecati qui deleniti consectetur\\nconsequatur aut facere quas exercitationem aliquam hic voluptas\\nneque id sunt ut aut accusamus\\nsunt consectetur expedita inventore velit'},\n",
       " {'userId': 8,\n",
       "  'id': 73,\n",
       "  'title': 'consequuntur deleniti eos quia temporibus ab aliquid at',\n",
       "  'body': 'voluptatem cumque tenetur consequatur expedita ipsum nemo quia explicabo\\naut eum minima consequatur\\ntempore cumque quae est et\\net in consequuntur voluptatem voluptates aut'},\n",
       " {'userId': 8,\n",
       "  'id': 74,\n",
       "  'title': 'enim unde ratione doloribus quas enim ut sit sapiente',\n",
       "  'body': 'odit qui et et necessitatibus sint veniam\\nmollitia amet doloremque molestiae commodi similique magnam et quam\\nblanditiis est itaque\\nquo et tenetur ratione occaecati molestiae tempora'},\n",
       " {'userId': 8,\n",
       "  'id': 75,\n",
       "  'title': 'dignissimos eum dolor ut enim et delectus in',\n",
       "  'body': 'commodi non non omnis et voluptas sit\\nautem aut nobis magnam et sapiente voluptatem\\net laborum repellat qui delectus facilis temporibus\\nrerum amet et nemo voluptate expedita adipisci error dolorem'},\n",
       " {'userId': 8,\n",
       "  'id': 76,\n",
       "  'title': 'doloremque officiis ad et non perferendis',\n",
       "  'body': 'ut animi facere\\ntotam iusto tempore\\nmolestiae eum aut et dolorem aperiam\\nquaerat recusandae totam odio'},\n",
       " {'userId': 8,\n",
       "  'id': 77,\n",
       "  'title': 'necessitatibus quasi exercitationem odio',\n",
       "  'body': 'modi ut in nulla repudiandae dolorum nostrum eos\\naut consequatur omnis\\nut incidunt est omnis iste et quam\\nvoluptates sapiente aliquam asperiores nobis amet corrupti repudiandae provident'},\n",
       " {'userId': 8,\n",
       "  'id': 78,\n",
       "  'title': 'quam voluptatibus rerum veritatis',\n",
       "  'body': 'nobis facilis odit tempore cupiditate quia\\nassumenda doloribus rerum qui ea\\nillum et qui totam\\naut veniam repellendus'},\n",
       " {'userId': 8,\n",
       "  'id': 79,\n",
       "  'title': 'pariatur consequatur quia magnam autem omnis non amet',\n",
       "  'body': 'libero accusantium et et facere incidunt sit dolorem\\nnon excepturi qui quia sed laudantium\\nquisquam molestiae ducimus est\\nofficiis esse molestiae iste et quos'},\n",
       " {'userId': 8,\n",
       "  'id': 80,\n",
       "  'title': 'labore in ex et explicabo corporis aut quas',\n",
       "  'body': 'ex quod dolorem ea eum iure qui provident amet\\nquia qui facere excepturi et repudiandae\\nasperiores molestias provident\\nminus incidunt vero fugit rerum sint sunt excepturi provident'},\n",
       " {'userId': 9,\n",
       "  'id': 81,\n",
       "  'title': 'tempora rem veritatis voluptas quo dolores vero',\n",
       "  'body': 'facere qui nesciunt est voluptatum voluptatem nisi\\nsequi eligendi necessitatibus ea at rerum itaque\\nharum non ratione velit laboriosam quis consequuntur\\nex officiis minima doloremque voluptas ut aut'},\n",
       " {'userId': 9,\n",
       "  'id': 82,\n",
       "  'title': 'laudantium voluptate suscipit sunt enim enim',\n",
       "  'body': 'ut libero sit aut totam inventore sunt\\nporro sint qui sunt molestiae\\nconsequatur cupiditate qui iste ducimus adipisci\\ndolor enim assumenda soluta laboriosam amet iste delectus hic'},\n",
       " {'userId': 9,\n",
       "  'id': 83,\n",
       "  'title': 'odit et voluptates doloribus alias odio et',\n",
       "  'body': 'est molestiae facilis quis tempora numquam nihil qui\\nvoluptate sapiente consequatur est qui\\nnecessitatibus autem aut ipsa aperiam modi dolore numquam\\nreprehenderit eius rem quibusdam'},\n",
       " {'userId': 9,\n",
       "  'id': 84,\n",
       "  'title': 'optio ipsam molestias necessitatibus occaecati facilis veritatis dolores aut',\n",
       "  'body': 'sint molestiae magni a et quos\\neaque et quasi\\nut rerum debitis similique veniam\\nrecusandae dignissimos dolor incidunt consequatur odio'},\n",
       " {'userId': 9,\n",
       "  'id': 85,\n",
       "  'title': 'dolore veritatis porro provident adipisci blanditiis et sunt',\n",
       "  'body': 'similique sed nisi voluptas iusto omnis\\nmollitia et quo\\nassumenda suscipit officia magnam sint sed tempora\\nenim provident pariatur praesentium atque animi amet ratione'},\n",
       " {'userId': 9,\n",
       "  'id': 86,\n",
       "  'title': 'placeat quia et porro iste',\n",
       "  'body': 'quasi excepturi consequatur iste autem temporibus sed molestiae beatae\\net quaerat et esse ut\\nvoluptatem occaecati et vel explicabo autem\\nasperiores pariatur deserunt optio'},\n",
       " {'userId': 9,\n",
       "  'id': 87,\n",
       "  'title': 'nostrum quis quasi placeat',\n",
       "  'body': 'eos et molestiae\\nnesciunt ut a\\ndolores perspiciatis repellendus repellat aliquid\\nmagnam sint rem ipsum est'},\n",
       " {'userId': 9,\n",
       "  'id': 88,\n",
       "  'title': 'sapiente omnis fugit eos',\n",
       "  'body': 'consequatur omnis est praesentium\\nducimus non iste\\nneque hic deserunt\\nvoluptatibus veniam cum et rerum sed'},\n",
       " {'userId': 9,\n",
       "  'id': 89,\n",
       "  'title': 'sint soluta et vel magnam aut ut sed qui',\n",
       "  'body': 'repellat aut aperiam totam temporibus autem et\\narchitecto magnam ut\\nconsequatur qui cupiditate rerum quia soluta dignissimos nihil iure\\ntempore quas est'},\n",
       " {'userId': 9,\n",
       "  'id': 90,\n",
       "  'title': 'ad iusto omnis odit dolor voluptatibus',\n",
       "  'body': 'minus omnis soluta quia\\nqui sed adipisci voluptates illum ipsam voluptatem\\neligendi officia ut in\\neos soluta similique molestias praesentium blanditiis'},\n",
       " {'userId': 10,\n",
       "  'id': 91,\n",
       "  'title': 'aut amet sed',\n",
       "  'body': 'libero voluptate eveniet aperiam sed\\nsunt placeat suscipit molestias\\nsimilique fugit nam natus\\nexpedita consequatur consequatur dolores quia eos et placeat'},\n",
       " {'userId': 10,\n",
       "  'id': 92,\n",
       "  'title': 'ratione ex tenetur perferendis',\n",
       "  'body': 'aut et excepturi dicta laudantium sint rerum nihil\\nlaudantium et at\\na neque minima officia et similique libero et\\ncommodi voluptate qui'},\n",
       " {'userId': 10,\n",
       "  'id': 93,\n",
       "  'title': 'beatae soluta recusandae',\n",
       "  'body': 'dolorem quibusdam ducimus consequuntur dicta aut quo laboriosam\\nvoluptatem quis enim recusandae ut sed sunt\\nnostrum est odit totam\\nsit error sed sunt eveniet provident qui nulla'},\n",
       " {'userId': 10,\n",
       "  'id': 94,\n",
       "  'title': 'qui qui voluptates illo iste minima',\n",
       "  'body': 'aspernatur expedita soluta quo ab ut similique\\nexpedita dolores amet\\nsed temporibus distinctio magnam saepe deleniti\\nomnis facilis nam ipsum natus sint similique omnis'},\n",
       " {'userId': 10,\n",
       "  'id': 95,\n",
       "  'title': 'id minus libero illum nam ad officiis',\n",
       "  'body': 'earum voluptatem facere provident blanditiis velit laboriosam\\npariatur accusamus odio saepe\\ncumque dolor qui a dicta ab doloribus consequatur omnis\\ncorporis cupiditate eaque assumenda ad nesciunt'},\n",
       " {'userId': 10,\n",
       "  'id': 96,\n",
       "  'title': 'quaerat velit veniam amet cupiditate aut numquam ut sequi',\n",
       "  'body': 'in non odio excepturi sint eum\\nlabore voluptates vitae quia qui et\\ninventore itaque rerum\\nveniam non exercitationem delectus aut'},\n",
       " {'userId': 10,\n",
       "  'id': 97,\n",
       "  'title': 'quas fugiat ut perspiciatis vero provident',\n",
       "  'body': 'eum non blanditiis soluta porro quibusdam voluptas\\nvel voluptatem qui placeat dolores qui velit aut\\nvel inventore aut cumque culpa explicabo aliquid at\\nperspiciatis est et voluptatem dignissimos dolor itaque sit nam'},\n",
       " {'userId': 10,\n",
       "  'id': 98,\n",
       "  'title': 'laboriosam dolor voluptates',\n",
       "  'body': 'doloremque ex facilis sit sint culpa\\nsoluta assumenda eligendi non ut eius\\nsequi ducimus vel quasi\\nveritatis est dolores'},\n",
       " {'userId': 10,\n",
       "  'id': 99,\n",
       "  'title': 'temporibus sit alias delectus eligendi possimus magni',\n",
       "  'body': 'quo deleniti praesentium dicta non quod\\naut est molestias\\nmolestias et officia quis nihil\\nitaque dolorem quia'},\n",
       " {'userId': 10,\n",
       "  'id': 100,\n",
       "  'title': 'at nam consequatur ea labore ea harum',\n",
       "  'body': 'cupiditate quo est a modi nesciunt soluta\\nipsa voluptas error itaque dicta in\\nautem qui minus magnam et distinctio eum\\naccusamus ratione error aut'}]"
      ]
     },
     "execution_count": 97,
     "metadata": {},
     "output_type": "execute_result"
    }
   ],
   "source": [
    "# Data as json format\n",
    "response.json()"
   ]
  },
  {
   "cell_type": "markdown",
   "id": "43f87010-625b-48e8-8290-72167c7e9b58",
   "metadata": {},
   "source": [
    "## Pull data from URL with query parameters\n",
    "\n",
    "query parameters allow you to filter data for a given entity, for example only pull a given entity id, only pull entity that satisfies a condition"
   ]
  },
  {
   "cell_type": "code",
   "execution_count": 98,
   "id": "75995e0c-51a9-4581-a539-9cbd2c242e7d",
   "metadata": {},
   "outputs": [
    {
     "name": "stdout",
     "output_type": "stream",
     "text": [
      "{'userId': 1,\n",
      " 'id': 1,\n",
      " 'title': 'sunt aut facere repellat provident occaecati excepturi optio '\n",
      "          'reprehenderit',\n",
      " 'body': 'quia et suscipit\\n'\n",
      "         'suscipit recusandae consequuntur expedita et cum\\n'\n",
      "         'reprehenderit molestiae ut ut quas totam\\n'\n",
      "         'nostrum rerum est autem sunt rem eveniet architecto'}\n"
     ]
    }
   ],
   "source": [
    "# get an entity by id\n",
    "entity_id = 1\n",
    "response = requests.get(url=f'{url}{entity}/{entity_id}')\n",
    "print(response.json())"
   ]
  },
  {
   "cell_type": "code",
   "execution_count": 99,
   "id": "a25b7058-2dc8-4e91-8e72-443d898e1951",
   "metadata": {
    "scrolled": true
   },
   "outputs": [
    {
     "data": {
      "text/plain": [
       "[{'postId': 1,\n",
       "  'id': 1,\n",
       "  'name': 'id labore ex et quam laborum',\n",
       "  'email': 'Eliseo@gardner.biz',\n",
       "  'body': 'laudantium enim quasi est quidem magnam voluptate ipsam eos\\ntempora quo necessitatibus\\ndolor quam autem quasi\\nreiciendis et nam sapiente accusantium'},\n",
       " {'postId': 1,\n",
       "  'id': 2,\n",
       "  'name': 'quo vero reiciendis velit similique earum',\n",
       "  'email': 'Jayne_Kuhic@sydney.com',\n",
       "  'body': 'est natus enim nihil est dolore omnis voluptatem numquam\\net omnis occaecati quod ullam at\\nvoluptatem error expedita pariatur\\nnihil sint nostrum voluptatem reiciendis et'},\n",
       " {'postId': 1,\n",
       "  'id': 3,\n",
       "  'name': 'odio adipisci rerum aut animi',\n",
       "  'email': 'Nikita@garfield.biz',\n",
       "  'body': 'quia molestiae reprehenderit quasi aspernatur\\naut expedita occaecati aliquam eveniet laudantium\\nomnis quibusdam delectus saepe quia accusamus maiores nam est\\ncum et ducimus et vero voluptates excepturi deleniti ratione'},\n",
       " {'postId': 1,\n",
       "  'id': 4,\n",
       "  'name': 'alias odio sit',\n",
       "  'email': 'Lew@alysha.tv',\n",
       "  'body': 'non et atque\\noccaecati deserunt quas accusantium unde odit nobis qui voluptatem\\nquia voluptas consequuntur itaque dolor\\net qui rerum deleniti ut occaecati'},\n",
       " {'postId': 1,\n",
       "  'id': 5,\n",
       "  'name': 'vero eaque aliquid doloribus et culpa',\n",
       "  'email': 'Hayden@althea.biz',\n",
       "  'body': 'harum non quasi et ratione\\ntempore iure ex voluptates in ratione\\nharum architecto fugit inventore cupiditate\\nvoluptates magni quo et'}]"
      ]
     },
     "execution_count": 99,
     "metadata": {},
     "output_type": "execute_result"
    }
   ],
   "source": [
    "# get all the comment entity that is from a specific post entity\n",
    "entity = 'comments'\n",
    "query_params = {'postId': 1}\n",
    "response = requests.get(url=f'{url}{entity}', params=query_params)\n",
    "response.json() # all the comments on post 1"
   ]
  },
  {
   "cell_type": "code",
   "execution_count": 100,
   "id": "d0468a71-95c3-4b53-8ee4-5fc9c878fcfb",
   "metadata": {},
   "outputs": [
    {
     "name": "stdout",
     "output_type": "stream",
     "text": [
      "'https://jsonplaceholder.typicode.com/comments?postId=1'\n"
     ]
    }
   ],
   "source": [
    "# see how there query params are added after the ?\n",
    "print(response.request.url)"
   ]
  },
  {
   "cell_type": "code",
   "execution_count": 101,
   "id": "32128c57-abd1-4d5f-9f89-f2523c6b753a",
   "metadata": {},
   "outputs": [
    {
     "data": {
      "text/plain": [
       "{'postId': 20,\n",
       " 'id': 100,\n",
       " 'name': 'et sint quia dolor et est ea nulla cum',\n",
       " 'email': 'Leone_Fay@orrin.com',\n",
       " 'body': 'architecto dolorem ab explicabo et provident et\\net eos illo omnis mollitia ex aliquam\\natque ut ipsum nulla nihil\\nquis voluptas aut debitis facilis'}"
      ]
     },
     "execution_count": 101,
     "metadata": {},
     "output_type": "execute_result"
    }
   ],
   "source": [
    "entity = 'comments'\n",
    "# pull based on comment ID, comment ID is unique across all posts, based on checking https://jsonplaceholder.typicode.com/\n",
    "comment_id = 100\n",
    "    response = requests.get(url=f'{url}{entity}/{comment_id}')\n",
    "response.json() # all the comments on post 1"
   ]
  },
  {
   "cell_type": "markdown",
   "id": "a40e5bec-859f-4914-a08e-090059840ed5",
   "metadata": {},
   "source": [
    "## Pagination"
   ]
  },
  {
   "cell_type": "markdown",
   "id": "73b8e277-8351-4429-86b1-93074f87c19e",
   "metadata": {},
   "source": [
    "### Pagination: Based on range"
   ]
  },
  {
   "cell_type": "code",
   "execution_count": 102,
   "id": "75b20a11-3624-4b5e-b81b-305bed90da47",
   "metadata": {
    "scrolled": true
   },
   "outputs": [
    {
     "name": "stdout",
     "output_type": "stream",
     "text": [
      "{'count': 367,\n",
      " 'next': 'https://pokeapi.co/api/v2/ability?offset=20&limit=20',\n",
      " 'previous': None,\n",
      " 'results': [{'name': 'stench', 'url': 'https://pokeapi.co/api/v2/ability/1/'},\n",
      "             {'name': 'drizzle', 'url': 'https://pokeapi.co/api/v2/ability/2/'},\n",
      "             {'name': 'speed-boost',\n",
      "              'url': 'https://pokeapi.co/api/v2/ability/3/'},\n",
      "             {'name': 'battle-armor',\n",
      "              'url': 'https://pokeapi.co/api/v2/ability/4/'},\n",
      "             {'name': 'sturdy', 'url': 'https://pokeapi.co/api/v2/ability/5/'},\n",
      "             {'name': 'damp', 'url': 'https://pokeapi.co/api/v2/ability/6/'},\n",
      "             {'name': 'limber', 'url': 'https://pokeapi.co/api/v2/ability/7/'},\n",
      "             {'name': 'sand-veil',\n",
      "              'url': 'https://pokeapi.co/api/v2/ability/8/'},\n",
      "             {'name': 'static', 'url': 'https://pokeapi.co/api/v2/ability/9/'},\n",
      "             {'name': 'volt-absorb',\n",
      "              'url': 'https://pokeapi.co/api/v2/ability/10/'},\n",
      "             {'name': 'water-absorb',\n",
      "              'url': 'https://pokeapi.co/api/v2/ability/11/'},\n",
      "             {'name': 'oblivious',\n",
      "              'url': 'https://pokeapi.co/api/v2/ability/12/'},\n",
      "             {'name': 'cloud-nine',\n",
      "              'url': 'https://pokeapi.co/api/v2/ability/13/'},\n",
      "             {'name': 'compound-eyes',\n",
      "              'url': 'https://pokeapi.co/api/v2/ability/14/'},\n",
      "             {'name': 'insomnia',\n",
      "              'url': 'https://pokeapi.co/api/v2/ability/15/'},\n",
      "             {'name': 'color-change',\n",
      "              'url': 'https://pokeapi.co/api/v2/ability/16/'},\n",
      "             {'name': 'immunity',\n",
      "              'url': 'https://pokeapi.co/api/v2/ability/17/'},\n",
      "             {'name': 'flash-fire',\n",
      "              'url': 'https://pokeapi.co/api/v2/ability/18/'},\n",
      "             {'name': 'shield-dust',\n",
      "              'url': 'https://pokeapi.co/api/v2/ability/19/'},\n",
      "             {'name': 'own-tempo',\n",
      "              'url': 'https://pokeapi.co/api/v2/ability/20/'}]}\n"
     ]
    }
   ],
   "source": [
    "url = 'https://pokeapi.co/api/v2/'\n",
    "entity = 'ability'\n",
    "response = requests.get(url=f'{url}{entity}')\n",
    "json_response = response.json()\n",
    "print(json_response)"
   ]
  },
  {
   "cell_type": "code",
   "execution_count": 103,
   "id": "45fd5514-abf5-4aca-8659-14510713de9e",
   "metadata": {
    "scrolled": true
   },
   "outputs": [
    {
     "data": {
      "text/plain": [
       "{'count': 367,\n",
       " 'next': 'https://pokeapi.co/api/v2/ability?offset=40&limit=20',\n",
       " 'previous': 'https://pokeapi.co/api/v2/ability?offset=0&limit=20',\n",
       " 'results': [{'name': 'suction-cups',\n",
       "   'url': 'https://pokeapi.co/api/v2/ability/21/'},\n",
       "  {'name': 'intimidate', 'url': 'https://pokeapi.co/api/v2/ability/22/'},\n",
       "  {'name': 'shadow-tag', 'url': 'https://pokeapi.co/api/v2/ability/23/'},\n",
       "  {'name': 'rough-skin', 'url': 'https://pokeapi.co/api/v2/ability/24/'},\n",
       "  {'name': 'wonder-guard', 'url': 'https://pokeapi.co/api/v2/ability/25/'},\n",
       "  {'name': 'levitate', 'url': 'https://pokeapi.co/api/v2/ability/26/'},\n",
       "  {'name': 'effect-spore', 'url': 'https://pokeapi.co/api/v2/ability/27/'},\n",
       "  {'name': 'synchronize', 'url': 'https://pokeapi.co/api/v2/ability/28/'},\n",
       "  {'name': 'clear-body', 'url': 'https://pokeapi.co/api/v2/ability/29/'},\n",
       "  {'name': 'natural-cure', 'url': 'https://pokeapi.co/api/v2/ability/30/'},\n",
       "  {'name': 'lightning-rod', 'url': 'https://pokeapi.co/api/v2/ability/31/'},\n",
       "  {'name': 'serene-grace', 'url': 'https://pokeapi.co/api/v2/ability/32/'},\n",
       "  {'name': 'swift-swim', 'url': 'https://pokeapi.co/api/v2/ability/33/'},\n",
       "  {'name': 'chlorophyll', 'url': 'https://pokeapi.co/api/v2/ability/34/'},\n",
       "  {'name': 'illuminate', 'url': 'https://pokeapi.co/api/v2/ability/35/'},\n",
       "  {'name': 'trace', 'url': 'https://pokeapi.co/api/v2/ability/36/'},\n",
       "  {'name': 'huge-power', 'url': 'https://pokeapi.co/api/v2/ability/37/'},\n",
       "  {'name': 'poison-point', 'url': 'https://pokeapi.co/api/v2/ability/38/'},\n",
       "  {'name': 'inner-focus', 'url': 'https://pokeapi.co/api/v2/ability/39/'},\n",
       "  {'name': 'magma-armor', 'url': 'https://pokeapi.co/api/v2/ability/40/'}]}"
      ]
     },
     "execution_count": 103,
     "metadata": {},
     "output_type": "execute_result"
    }
   ],
   "source": [
    "# count indicates the total number of data points\n",
    "# the API is well designed in that they are providing us with the next page of data to pull\n",
    "\n",
    "# we could use the next url with params as is\n",
    "response = requests.get(json_response.get('next'))\n",
    "response.json()\n",
    "# we can see that the API now provides a next and previous, not all APIs are so well designed"
   ]
  },
  {
   "cell_type": "code",
   "execution_count": 104,
   "id": "73647296-9d02-440f-988d-50a23ea48a61",
   "metadata": {},
   "outputs": [
    {
     "data": {
      "text/plain": [
       "{'count': 367,\n",
       " 'next': 'https://pokeapi.co/api/v2/ability?offset=8&limit=3',\n",
       " 'previous': 'https://pokeapi.co/api/v2/ability?offset=2&limit=3',\n",
       " 'results': [{'name': 'damp', 'url': 'https://pokeapi.co/api/v2/ability/6/'},\n",
       "  {'name': 'limber', 'url': 'https://pokeapi.co/api/v2/ability/7/'},\n",
       "  {'name': 'sand-veil', 'url': 'https://pokeapi.co/api/v2/ability/8/'}]}"
      ]
     },
     "execution_count": 104,
     "metadata": {},
     "output_type": "execute_result"
    }
   ],
   "source": [
    "# we could also change the params to fit our needs\n",
    "params = {'offset': 5, 'limit': 3}\n",
    "url = 'https://pokeapi.co/api/v2/'\n",
    "entity = 'ability'\n",
    "response = requests.get(url=f'{url}{entity}', params=params)\n",
    "response.json()\n",
    "# we will get 3 data points (limit) that start after the 5th element in the ability list; so we will get ability 6, 7, & 8"
   ]
  },
  {
   "cell_type": "markdown",
   "id": "1b8ea5dc-fd76-4620-908d-ccccd1d7df14",
   "metadata": {},
   "source": [
    "### Pagination: Based on next id\n",
    "In the poke example the API provide us with a next link while also enabling parameter based data pulls (with limit and offset).\n",
    "However not every api provides this level of details, you may have to make calls to get the number of items and paginate logic based on how that API is designed (usually specified in the doc)\n",
    "\n",
    "Some APIs also provide a next link with some Id (e.g. uuid) that we cannot manipulate to limit the ability of us (calling code) to freely pull any subset of data that we'd like."
   ]
  },
  {
   "cell_type": "markdown",
   "id": "3543d248-dbf7-4627-92e8-8eeda04f7aed",
   "metadata": {},
   "source": [
    "## Retry \n",
    "\n",
    "Some API servers only allow us to call them n times per time unit. In such cases you will have to wait and retry.\n"
   ]
  },
  {
   "cell_type": "code",
   "execution_count": 124,
   "id": "6ac0ade7-3e51-475b-bfcd-6aaff7de28ea",
   "metadata": {},
   "outputs": [],
   "source": [
    "import subprocess\n",
    "process = subprocess.Popen(['uv', 'run', 'dummy_server.py'], \n",
    "                          stdout=subprocess.PIPE,\n",
    "                          stderr=subprocess.PIPE)"
   ]
  },
  {
   "cell_type": "markdown",
   "id": "adc9b1a1-7566-4bb9-94c1-b7d3c9e2d184",
   "metadata": {},
   "source": [
    "The above command will start a simple server that runs locally at http://localhost:8000/api which only accepts one API call every 10 secondsm"
   ]
  },
  {
   "cell_type": "code",
   "execution_count": 125,
   "id": "000414b3-b804-4441-b805-010a939fd854",
   "metadata": {},
   "outputs": [
    {
     "name": "stdout",
     "output_type": "stream",
     "text": [
      "{'status': 'success',\n",
      " 'message': 'API request processed successfully',\n",
      " 'timestamp': 1744715055.1799412}\n",
      "{'status': 'error',\n",
      " 'message': 'Rate limit exceeded. Try again in 9.99 seconds.',\n",
      " 'retry_after': 9}\n"
     ]
    }
   ],
   "source": [
    "url = 'http://localhost:8000/api'\n",
    "response_1 = requests.get(url)\n",
    "print(response_1.json())\n",
    "response_2 = requests.get(url)\n",
    "print(response_2.json())"
   ]
  },
  {
   "cell_type": "code",
   "execution_count": 126,
   "id": "2a12be49-a8f4-4528-8664-d97734c6877d",
   "metadata": {},
   "outputs": [
    {
     "name": "stdout",
     "output_type": "stream",
     "text": [
      "{'status': 'success',\n",
      " 'message': 'API request processed successfully',\n",
      " 'timestamp': 1744715065.3647523}\n",
      "{'status': 'success',\n",
      " 'message': 'API request processed successfully',\n",
      " 'timestamp': 1744715075.3728964}\n"
     ]
    }
   ],
   "source": [
    "import time\n",
    "\n",
    "# we can just wait for 10 seconds\n",
    "url = 'http://localhost:8000/api'\n",
    "response_1 = requests.get(url)\n",
    "print(response_1.json())\n",
    "time.sleep(10)\n",
    "response_2 = requests.get(url)\n",
    "print(response_2.json())"
   ]
  },
  {
   "cell_type": "code",
   "execution_count": 127,
   "id": "2d6aeecb-c3dd-4f0d-a751-9ba8b80780ba",
   "metadata": {},
   "outputs": [],
   "source": [
    "process.terminate() # stop server"
   ]
  },
  {
   "cell_type": "markdown",
   "id": "af7af936-395f-487c-800b-0c68a5337d0a",
   "metadata": {},
   "source": [
    "### Retry with backoff\n",
    "\n",
    "If you are not aware of the rate limits of the API server, you can use an exponential back off technique, where you wait ever increasing times between API calls.\n",
    "You can do this with the retry functionality as shown below."
   ]
  },
  {
   "cell_type": "code",
   "execution_count": 142,
   "id": "eaeca534-7f60-447d-a4b2-a75aa5bcf57d",
   "metadata": {},
   "outputs": [],
   "source": [
    "import subprocess\n",
    "process.terminate()\n",
    "process = subprocess.Popen(['uv', 'run', 'random_dummy_server.py'], \n",
    "                          stdout=subprocess.PIPE,\n",
    "                          stderr=subprocess.PIPE)"
   ]
  },
  {
   "cell_type": "code",
   "execution_count": 143,
   "id": "263be1ec-2dc2-4383-9dd4-90fe5324cc60",
   "metadata": {},
   "outputs": [
    {
     "name": "stdout",
     "output_type": "stream",
     "text": [
      "{'status': 'success',\n",
      " 'message': 'API request processed successfully Rate limited at 18 calls per '\n",
      "            'second ',\n",
      " 'timestamp': 1744715530.654787,\n",
      " 'rate_limit': 'Rate limited at 18 calls per second'}\n",
      "{'status': 'error',\n",
      " 'message': 'Rate limit exceeded. Try again in 7.99 seconds.Rate limited at 18 '\n",
      "            'calls per second ',\n",
      " 'retry_after': 7,\n",
      " 'rate_limit': 'Rate limited at 18 calls per second'}\n"
     ]
    }
   ],
   "source": [
    "import time\n",
    "\n",
    "# we can just wait for 10 seconds\n",
    "url = 'http://localhost:8000/api'\n",
    "response_1 = requests.get(url)\n",
    "print(response_1.json())\n",
    "time.sleep(10)\n",
    "response_2 = requests.get(url)\n",
    "print(response_2.json())"
   ]
  },
  {
   "cell_type": "code",
   "execution_count": 144,
   "id": "44bcdeb1-f4b3-4d27-9736-ca162d6e8b47",
   "metadata": {},
   "outputs": [
    {
     "name": "stdout",
     "output_type": "stream",
     "text": [
      "'Attempt 1:'\n",
      "(\"Result: {'status': 'success', 'message': 'API request processed successfully \"\n",
      " \"Rate limited at 23 calls per second ', 'timestamp': 1744715564.0061274, \"\n",
      " \"'rate_limit': 'Rate limited at 23 calls per second'}\")\n",
      "'Attempt 2:'\n",
      "(\"Result: {'status': 'success', 'message': 'API request processed successfully \"\n",
      " \"Rate limited at 19 calls per second ', 'timestamp': 1744715590.7461154, \"\n",
      " \"'rate_limit': 'Rate limited at 19 calls per second'}\")\n",
      "'Attempt 3:'\n",
      "(\"Result: {'status': 'success', 'message': 'API request processed successfully \"\n",
      " \"Rate limited at 19 calls per second ', 'timestamp': 1744715614.1090477, \"\n",
      " \"'rate_limit': 'Rate limited at 19 calls per second'}\")\n",
      "'Attempt 4:'\n",
      "(\"Result: {'status': 'success', 'message': 'API request processed successfully \"\n",
      " \"Rate limited at 19 calls per second ', 'timestamp': 1744715637.2118976, \"\n",
      " \"'rate_limit': 'Rate limited at 19 calls per second'}\")\n",
      "'Attempt 5:'\n",
      "(\"Result: {'status': 'success', 'message': 'API request processed successfully \"\n",
      " \"Rate limited at 25 calls per second ', 'timestamp': 1744715660.0646617, \"\n",
      " \"'rate_limit': 'Rate limited at 25 calls per second'}\")\n"
     ]
    }
   ],
   "source": [
    "import requests\n",
    "from requests.adapters import HTTPAdapter\n",
    "from urllib3.util.retry import Retry\n",
    "import time\n",
    "\n",
    "# Configure the retry strategy \n",
    "# 3 retries with exponential backoffs\n",
    "retries = Retry(\n",
    "    total=3,\n",
    "     backoff_factor=2,  \n",
    "    status_forcelist=[500, 502, 503, 504],  # Retry on these server errors\n",
    "    allowed_methods={\"GET\"},  # Explicitly allow only GET requests\n",
    "    backoff_jitter=2  # Additional random sleep seconds (0-2s)\n",
    ")\n",
    "\n",
    "# Create a session and mount the retry adapter\n",
    "session = requests.Session()\n",
    "adapter = HTTPAdapter(max_retries=retries)\n",
    "session.mount('http://', adapter)\n",
    "\n",
    "# URL for your local API\n",
    "api_url = \"http://localhost:8000/api\"\n",
    "\n",
    "# Function to make API calls with retry handling\n",
    "def make_api_call():\n",
    "    try:\n",
    "        # Make the GET request\n",
    "        response = session.get(api_url)\n",
    "        response.raise_for_status()  # Raise exception for 4XX/5XX responses\n",
    "        return response.json()\n",
    "    except requests.exceptions.HTTPError as e:\n",
    "        print(f\"HTTP Error: {e}\")\n",
    "    except requests.exceptions.ConnectionError as e:\n",
    "        print(f\"Connection Error: {e}\")\n",
    "    except requests.exceptions.Timeout as e:\n",
    "        print(f\"Timeout Error: {e}\")\n",
    "    except requests.exceptions.RequestException as e:\n",
    "        print(f\"Request Exception: {e}\")\n",
    "    return None\n",
    "\n",
    "# Example usage with your rate-limited server\n",
    "for i in range(3):\n",
    "    print(f\"Attempt {i+1}:\")\n",
    "    result = make_api_call()\n",
    "    print(f\"Result: {result}\")\n",
    " "
   ]
  },
  {
   "cell_type": "code",
   "execution_count": 146,
   "id": "c1959ba2-736c-4b37-b06d-fa4e7c5be53d",
   "metadata": {},
   "outputs": [],
   "source": [
    "process.terminate()"
   ]
  },
  {
   "cell_type": "markdown",
   "id": "08fa0bde-6a05-4081-b90a-da786a3c5dfe",
   "metadata": {},
   "source": [
    "## APIs that require authentication\n",
    "\n",
    "Some APIs require you to authenticate before connecting. There are multiple ways to authenticate, the most common ones for APIs are\n",
    "\n",
    "1. OAuth 2.0\n",
    "An authorization framework that enables third-party applications to access resources on behalf of users without exposing credentials. OAuth 2.0 issues temporary access tokens with defined scopes, supporting multiple flows like Authorization Code, Implicit, and Client Credentials depending on the use case.\n",
    "2. API Keys\n",
    "Simple string tokens that act as unique identifiers to authenticate API requests. Typically included in request headers, query parameters, or the request body. They're easy to implement but should be protected and transmitted over HTTPS to prevent interception.\n",
    "3. Basic Authentication\n",
    "Authentication method where credentials (username and password) are encoded as Base64 and sent in the HTTP Authorization header. The format is Authorization: Basic {base64(username:password)}. Simple to implement but must be used with HTTPS to prevent credential exposure.\n",
    "4. API Key Pairs\n",
    "Authentication using two complementary keys: a public key that identifies the client and a private/secret key used to generate signatures. The private key never leaves the client, while signatures allow the server to verify the request's authenticity and integrity without transmitting sensitive information."
   ]
  },
  {
   "cell_type": "code",
   "execution_count": null,
   "id": "db3416c3-f6ba-4727-8660-65bf43a9c3ed",
   "metadata": {},
   "outputs": [],
   "source": []
  }
 ],
 "metadata": {
  "kernelspec": {
   "display_name": "venv",
   "language": "python",
   "name": "venv"
  },
  "language_info": {
   "codemirror_mode": {
    "name": "ipython",
    "version": 3
   },
   "file_extension": ".py",
   "mimetype": "text/x-python",
   "name": "python",
   "nbconvert_exporter": "python",
   "pygments_lexer": "ipython3",
   "version": "3.13.2"
  }
 },
 "nbformat": 4,
 "nbformat_minor": 5
}
